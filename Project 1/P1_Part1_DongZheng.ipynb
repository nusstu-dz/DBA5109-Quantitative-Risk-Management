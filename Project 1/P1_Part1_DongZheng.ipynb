{
  "cells": [
    {
      "cell_type": "code",
      "execution_count": null,
      "metadata": {
        "id": "9xLfcztJYDwg"
      },
      "outputs": [],
      "source": [
        "import pandas as pd\n",
        "import numpy as np"
      ]
    },
    {
      "cell_type": "code",
      "execution_count": null,
      "metadata": {
        "id": "BjZh3eF1YDwk"
      },
      "outputs": [],
      "source": [
        "data = pd.read_csv('gp1_data_1986_to_2015.csv')"
      ]
    },
    {
      "cell_type": "code",
      "execution_count": null,
      "metadata": {
        "id": "JmiHD9UBYDwl",
        "outputId": "6edf34ce-791e-4efa-9a17-1c8dd4d6a35a"
      },
      "outputs": [
        {
          "data": {
            "text/html": [
              "<div>\n",
              "<style scoped>\n",
              "    .dataframe tbody tr th:only-of-type {\n",
              "        vertical-align: middle;\n",
              "    }\n",
              "\n",
              "    .dataframe tbody tr th {\n",
              "        vertical-align: top;\n",
              "    }\n",
              "\n",
              "    .dataframe thead th {\n",
              "        text-align: right;\n",
              "    }\n",
              "</style>\n",
              "<table border=\"1\" class=\"dataframe\">\n",
              "  <thead>\n",
              "    <tr style=\"text-align: right;\">\n",
              "      <th></th>\n",
              "      <th>Month</th>\n",
              "      <th>Mkt-RF</th>\n",
              "      <th>SMB</th>\n",
              "      <th>HML</th>\n",
              "      <th>RF</th>\n",
              "      <th>Agric</th>\n",
              "      <th>Food</th>\n",
              "      <th>Soda</th>\n",
              "      <th>Beer</th>\n",
              "      <th>Smoke</th>\n",
              "      <th>...</th>\n",
              "      <th>Boxes</th>\n",
              "      <th>Trans</th>\n",
              "      <th>Whlsl</th>\n",
              "      <th>Rtail</th>\n",
              "      <th>Meals</th>\n",
              "      <th>Banks</th>\n",
              "      <th>Insur</th>\n",
              "      <th>RlEst</th>\n",
              "      <th>Fin</th>\n",
              "      <th>Other</th>\n",
              "    </tr>\n",
              "  </thead>\n",
              "  <tbody>\n",
              "    <tr>\n",
              "      <th>0</th>\n",
              "      <td>198601</td>\n",
              "      <td>0.65</td>\n",
              "      <td>1.22</td>\n",
              "      <td>0.52</td>\n",
              "      <td>0.56</td>\n",
              "      <td>7.92</td>\n",
              "      <td>2.38</td>\n",
              "      <td>-1.20</td>\n",
              "      <td>-0.86</td>\n",
              "      <td>5.55</td>\n",
              "      <td>...</td>\n",
              "      <td>1.91</td>\n",
              "      <td>5.60</td>\n",
              "      <td>2.48</td>\n",
              "      <td>1.67</td>\n",
              "      <td>-0.09</td>\n",
              "      <td>2.82</td>\n",
              "      <td>6.63</td>\n",
              "      <td>2.08</td>\n",
              "      <td>2.47</td>\n",
              "      <td>3.91</td>\n",
              "    </tr>\n",
              "    <tr>\n",
              "      <th>1</th>\n",
              "      <td>198602</td>\n",
              "      <td>7.13</td>\n",
              "      <td>-0.62</td>\n",
              "      <td>-0.85</td>\n",
              "      <td>0.53</td>\n",
              "      <td>13.98</td>\n",
              "      <td>7.89</td>\n",
              "      <td>11.68</td>\n",
              "      <td>7.71</td>\n",
              "      <td>12.20</td>\n",
              "      <td>...</td>\n",
              "      <td>10.61</td>\n",
              "      <td>7.03</td>\n",
              "      <td>8.85</td>\n",
              "      <td>7.21</td>\n",
              "      <td>9.27</td>\n",
              "      <td>11.04</td>\n",
              "      <td>7.41</td>\n",
              "      <td>6.99</td>\n",
              "      <td>8.18</td>\n",
              "      <td>11.28</td>\n",
              "    </tr>\n",
              "    <tr>\n",
              "      <th>2</th>\n",
              "      <td>198603</td>\n",
              "      <td>4.88</td>\n",
              "      <td>-0.52</td>\n",
              "      <td>-0.44</td>\n",
              "      <td>0.60</td>\n",
              "      <td>2.74</td>\n",
              "      <td>7.84</td>\n",
              "      <td>10.89</td>\n",
              "      <td>9.17</td>\n",
              "      <td>11.52</td>\n",
              "      <td>...</td>\n",
              "      <td>5.61</td>\n",
              "      <td>3.22</td>\n",
              "      <td>7.41</td>\n",
              "      <td>9.11</td>\n",
              "      <td>6.42</td>\n",
              "      <td>7.22</td>\n",
              "      <td>5.31</td>\n",
              "      <td>9.32</td>\n",
              "      <td>5.49</td>\n",
              "      <td>6.52</td>\n",
              "    </tr>\n",
              "    <tr>\n",
              "      <th>3</th>\n",
              "      <td>198604</td>\n",
              "      <td>-1.31</td>\n",
              "      <td>2.85</td>\n",
              "      <td>-2.86</td>\n",
              "      <td>0.52</td>\n",
              "      <td>5.24</td>\n",
              "      <td>-0.57</td>\n",
              "      <td>4.44</td>\n",
              "      <td>-2.92</td>\n",
              "      <td>3.64</td>\n",
              "      <td>...</td>\n",
              "      <td>-0.93</td>\n",
              "      <td>-2.64</td>\n",
              "      <td>1.70</td>\n",
              "      <td>-0.70</td>\n",
              "      <td>3.86</td>\n",
              "      <td>-0.58</td>\n",
              "      <td>-6.10</td>\n",
              "      <td>-3.22</td>\n",
              "      <td>-3.29</td>\n",
              "      <td>-4.69</td>\n",
              "    </tr>\n",
              "    <tr>\n",
              "      <th>4</th>\n",
              "      <td>198605</td>\n",
              "      <td>4.62</td>\n",
              "      <td>-1.32</td>\n",
              "      <td>-0.14</td>\n",
              "      <td>0.49</td>\n",
              "      <td>1.08</td>\n",
              "      <td>8.55</td>\n",
              "      <td>7.95</td>\n",
              "      <td>6.37</td>\n",
              "      <td>10.16</td>\n",
              "      <td>...</td>\n",
              "      <td>5.07</td>\n",
              "      <td>0.70</td>\n",
              "      <td>5.52</td>\n",
              "      <td>11.95</td>\n",
              "      <td>4.89</td>\n",
              "      <td>4.20</td>\n",
              "      <td>5.72</td>\n",
              "      <td>-1.21</td>\n",
              "      <td>5.19</td>\n",
              "      <td>6.32</td>\n",
              "    </tr>\n",
              "  </tbody>\n",
              "</table>\n",
              "<p>5 rows × 53 columns</p>\n",
              "</div>"
            ],
            "text/plain": [
              "    Month  Mkt-RF   SMB   HML    RF  Agric  Food   Soda   Beer   Smoke  ...  \\\n",
              "0  198601    0.65  1.22  0.52  0.56   7.92   2.38  -1.20  -0.86   5.55  ...   \n",
              "1  198602    7.13 -0.62 -0.85  0.53  13.98   7.89  11.68   7.71  12.20  ...   \n",
              "2  198603    4.88 -0.52 -0.44  0.60   2.74   7.84  10.89   9.17  11.52  ...   \n",
              "3  198604   -1.31  2.85 -2.86  0.52   5.24  -0.57   4.44  -2.92   3.64  ...   \n",
              "4  198605    4.62 -1.32 -0.14  0.49   1.08   8.55   7.95   6.37  10.16  ...   \n",
              "\n",
              "   Boxes  Trans  Whlsl  Rtail  Meals  Banks  Insur  RlEst  Fin    Other  \n",
              "0   1.91   5.60   2.48   1.67  -0.09   2.82   6.63   2.08   2.47   3.91  \n",
              "1  10.61   7.03   8.85   7.21   9.27  11.04   7.41   6.99   8.18  11.28  \n",
              "2   5.61   3.22   7.41   9.11   6.42   7.22   5.31   9.32   5.49   6.52  \n",
              "3  -0.93  -2.64   1.70  -0.70   3.86  -0.58  -6.10  -3.22  -3.29  -4.69  \n",
              "4   5.07   0.70   5.52  11.95   4.89   4.20   5.72  -1.21   5.19   6.32  \n",
              "\n",
              "[5 rows x 53 columns]"
            ]
          },
          "execution_count": 3,
          "metadata": {},
          "output_type": "execute_result"
        }
      ],
      "source": [
        "data.head()"
      ]
    },
    {
      "cell_type": "code",
      "execution_count": null,
      "metadata": {
        "id": "nY9uJCLkYDwn"
      },
      "outputs": [],
      "source": [
        "# Convert month to datetime and set as index\n",
        "from datetime import datetime\n",
        "mkt_excess = data.copy()\n",
        "mkt_excess = mkt_excess[['Month','Mkt-RF']]\n",
        "mkt_excess['Month'] = pd.to_datetime(mkt_excess['Month'],format='%Y%m')"
      ]
    },
    {
      "cell_type": "code",
      "execution_count": null,
      "metadata": {
        "id": "9eHcHC1OYDwp"
      },
      "outputs": [],
      "source": [
        "# Set Month as index and plot market excess return\n",
        "mkt_excess = mkt_excess.set_index('Month')"
      ]
    },
    {
      "cell_type": "markdown",
      "metadata": {
        "id": "010-voy0YDwq"
      },
      "source": [
        "### 2-1 Calculate the excess return of the 48 industry portfolios. "
      ]
    },
    {
      "cell_type": "code",
      "execution_count": null,
      "metadata": {
        "id": "wdzlNibOYDws"
      },
      "outputs": [],
      "source": [
        "# Compute excess return for each of the 48 stocks\n",
        "assets = list(data.columns[5:])\n",
        "excess_rt = data[['Month']].copy()\n",
        "for asset in assets:\n",
        "    excess_rt[asset] = (data[asset] - data['RF'])\n",
        "excess_rt['Month'] = pd.to_datetime(excess_rt['Month'],format='%Y%m')\n",
        "excess_rt=excess_rt.set_index(['Month'])"
      ]
    },
    {
      "cell_type": "code",
      "execution_count": null,
      "metadata": {
        "id": "V7diAoZoYDwu",
        "outputId": "a3d79a87-9027-4ea8-b263-4e5cb44db03b"
      },
      "outputs": [
        {
          "data": {
            "text/html": [
              "<div>\n",
              "<style scoped>\n",
              "    .dataframe tbody tr th:only-of-type {\n",
              "        vertical-align: middle;\n",
              "    }\n",
              "\n",
              "    .dataframe tbody tr th {\n",
              "        vertical-align: top;\n",
              "    }\n",
              "\n",
              "    .dataframe thead th {\n",
              "        text-align: right;\n",
              "    }\n",
              "</style>\n",
              "<table border=\"1\" class=\"dataframe\">\n",
              "  <thead>\n",
              "    <tr style=\"text-align: right;\">\n",
              "      <th></th>\n",
              "      <th>Agric</th>\n",
              "      <th>Food</th>\n",
              "      <th>Soda</th>\n",
              "      <th>Beer</th>\n",
              "      <th>Smoke</th>\n",
              "      <th>Toys</th>\n",
              "      <th>Fun</th>\n",
              "      <th>Books</th>\n",
              "      <th>Hshld</th>\n",
              "      <th>Clths</th>\n",
              "      <th>...</th>\n",
              "      <th>Boxes</th>\n",
              "      <th>Trans</th>\n",
              "      <th>Whlsl</th>\n",
              "      <th>Rtail</th>\n",
              "      <th>Meals</th>\n",
              "      <th>Banks</th>\n",
              "      <th>Insur</th>\n",
              "      <th>RlEst</th>\n",
              "      <th>Fin</th>\n",
              "      <th>Other</th>\n",
              "    </tr>\n",
              "    <tr>\n",
              "      <th>Month</th>\n",
              "      <th></th>\n",
              "      <th></th>\n",
              "      <th></th>\n",
              "      <th></th>\n",
              "      <th></th>\n",
              "      <th></th>\n",
              "      <th></th>\n",
              "      <th></th>\n",
              "      <th></th>\n",
              "      <th></th>\n",
              "      <th></th>\n",
              "      <th></th>\n",
              "      <th></th>\n",
              "      <th></th>\n",
              "      <th></th>\n",
              "      <th></th>\n",
              "      <th></th>\n",
              "      <th></th>\n",
              "      <th></th>\n",
              "      <th></th>\n",
              "      <th></th>\n",
              "    </tr>\n",
              "  </thead>\n",
              "  <tbody>\n",
              "    <tr>\n",
              "      <th>1986-01-01</th>\n",
              "      <td>7.36</td>\n",
              "      <td>1.82</td>\n",
              "      <td>-1.76</td>\n",
              "      <td>-1.42</td>\n",
              "      <td>4.99</td>\n",
              "      <td>1.58</td>\n",
              "      <td>3.35</td>\n",
              "      <td>-1.34</td>\n",
              "      <td>-1.52</td>\n",
              "      <td>4.66</td>\n",
              "      <td>...</td>\n",
              "      <td>1.35</td>\n",
              "      <td>5.04</td>\n",
              "      <td>1.92</td>\n",
              "      <td>1.11</td>\n",
              "      <td>-0.65</td>\n",
              "      <td>2.26</td>\n",
              "      <td>6.07</td>\n",
              "      <td>1.52</td>\n",
              "      <td>1.91</td>\n",
              "      <td>3.35</td>\n",
              "    </tr>\n",
              "    <tr>\n",
              "      <th>1986-02-01</th>\n",
              "      <td>13.45</td>\n",
              "      <td>7.36</td>\n",
              "      <td>11.15</td>\n",
              "      <td>7.18</td>\n",
              "      <td>11.67</td>\n",
              "      <td>10.19</td>\n",
              "      <td>7.75</td>\n",
              "      <td>14.14</td>\n",
              "      <td>10.20</td>\n",
              "      <td>8.80</td>\n",
              "      <td>...</td>\n",
              "      <td>10.08</td>\n",
              "      <td>6.50</td>\n",
              "      <td>8.32</td>\n",
              "      <td>6.68</td>\n",
              "      <td>8.74</td>\n",
              "      <td>10.51</td>\n",
              "      <td>6.88</td>\n",
              "      <td>6.46</td>\n",
              "      <td>7.65</td>\n",
              "      <td>10.75</td>\n",
              "    </tr>\n",
              "    <tr>\n",
              "      <th>1986-03-01</th>\n",
              "      <td>2.14</td>\n",
              "      <td>7.24</td>\n",
              "      <td>10.29</td>\n",
              "      <td>8.57</td>\n",
              "      <td>10.92</td>\n",
              "      <td>5.05</td>\n",
              "      <td>6.26</td>\n",
              "      <td>4.47</td>\n",
              "      <td>4.97</td>\n",
              "      <td>5.57</td>\n",
              "      <td>...</td>\n",
              "      <td>5.01</td>\n",
              "      <td>2.62</td>\n",
              "      <td>6.81</td>\n",
              "      <td>8.51</td>\n",
              "      <td>5.82</td>\n",
              "      <td>6.62</td>\n",
              "      <td>4.71</td>\n",
              "      <td>8.72</td>\n",
              "      <td>4.89</td>\n",
              "      <td>5.92</td>\n",
              "    </tr>\n",
              "    <tr>\n",
              "      <th>1986-04-01</th>\n",
              "      <td>4.72</td>\n",
              "      <td>-1.09</td>\n",
              "      <td>3.92</td>\n",
              "      <td>-3.44</td>\n",
              "      <td>3.12</td>\n",
              "      <td>3.39</td>\n",
              "      <td>7.84</td>\n",
              "      <td>-1.66</td>\n",
              "      <td>-2.18</td>\n",
              "      <td>-3.30</td>\n",
              "      <td>...</td>\n",
              "      <td>-1.45</td>\n",
              "      <td>-3.16</td>\n",
              "      <td>1.18</td>\n",
              "      <td>-1.22</td>\n",
              "      <td>3.34</td>\n",
              "      <td>-1.10</td>\n",
              "      <td>-6.62</td>\n",
              "      <td>-3.74</td>\n",
              "      <td>-3.81</td>\n",
              "      <td>-5.21</td>\n",
              "    </tr>\n",
              "    <tr>\n",
              "      <th>1986-05-01</th>\n",
              "      <td>0.59</td>\n",
              "      <td>8.06</td>\n",
              "      <td>7.46</td>\n",
              "      <td>5.88</td>\n",
              "      <td>9.67</td>\n",
              "      <td>2.67</td>\n",
              "      <td>5.42</td>\n",
              "      <td>10.47</td>\n",
              "      <td>4.12</td>\n",
              "      <td>9.29</td>\n",
              "      <td>...</td>\n",
              "      <td>4.58</td>\n",
              "      <td>0.21</td>\n",
              "      <td>5.03</td>\n",
              "      <td>11.46</td>\n",
              "      <td>4.40</td>\n",
              "      <td>3.71</td>\n",
              "      <td>5.23</td>\n",
              "      <td>-1.70</td>\n",
              "      <td>4.70</td>\n",
              "      <td>5.83</td>\n",
              "    </tr>\n",
              "  </tbody>\n",
              "</table>\n",
              "<p>5 rows × 48 columns</p>\n",
              "</div>"
            ],
            "text/plain": [
              "            Agric  Food   Soda   Beer   Smoke  Toys   Fun    Books  Hshld  \\\n",
              "Month                                                                       \n",
              "1986-01-01   7.36   1.82  -1.76  -1.42   4.99   1.58   3.35  -1.34  -1.52   \n",
              "1986-02-01  13.45   7.36  11.15   7.18  11.67  10.19   7.75  14.14  10.20   \n",
              "1986-03-01   2.14   7.24  10.29   8.57  10.92   5.05   6.26   4.47   4.97   \n",
              "1986-04-01   4.72  -1.09   3.92  -3.44   3.12   3.39   7.84  -1.66  -2.18   \n",
              "1986-05-01   0.59   8.06   7.46   5.88   9.67   2.67   5.42  10.47   4.12   \n",
              "\n",
              "            Clths  ...  Boxes  Trans  Whlsl  Rtail  Meals  Banks  Insur  \\\n",
              "Month              ...                                                    \n",
              "1986-01-01   4.66  ...   1.35   5.04   1.92   1.11  -0.65   2.26   6.07   \n",
              "1986-02-01   8.80  ...  10.08   6.50   8.32   6.68   8.74  10.51   6.88   \n",
              "1986-03-01   5.57  ...   5.01   2.62   6.81   8.51   5.82   6.62   4.71   \n",
              "1986-04-01  -3.30  ...  -1.45  -3.16   1.18  -1.22   3.34  -1.10  -6.62   \n",
              "1986-05-01   9.29  ...   4.58   0.21   5.03  11.46   4.40   3.71   5.23   \n",
              "\n",
              "            RlEst  Fin    Other  \n",
              "Month                            \n",
              "1986-01-01   1.52   1.91   3.35  \n",
              "1986-02-01   6.46   7.65  10.75  \n",
              "1986-03-01   8.72   4.89   5.92  \n",
              "1986-04-01  -3.74  -3.81  -5.21  \n",
              "1986-05-01  -1.70   4.70   5.83  \n",
              "\n",
              "[5 rows x 48 columns]"
            ]
          },
          "execution_count": 6,
          "metadata": {},
          "output_type": "execute_result"
        }
      ],
      "source": [
        "excess_rt.head()"
      ]
    },
    {
      "cell_type": "markdown",
      "metadata": {
        "id": "jTH3OYBrYDwv"
      },
      "source": [
        "### 2-2 Portfolio construction"
      ]
    },
    {
      "cell_type": "code",
      "execution_count": null,
      "metadata": {
        "id": "FB6qrcgcYDww",
        "outputId": "45b48a28-2eab-4de4-dc4f-84f780fc06c6"
      },
      "outputs": [
        {
          "data": {
            "text/plain": [
              "array([0.02083333, 0.02083333, 0.02083333, 0.02083333, 0.02083333,\n",
              "       0.02083333, 0.02083333, 0.02083333, 0.02083333, 0.02083333,\n",
              "       0.02083333, 0.02083333, 0.02083333, 0.02083333, 0.02083333,\n",
              "       0.02083333, 0.02083333, 0.02083333, 0.02083333, 0.02083333,\n",
              "       0.02083333, 0.02083333, 0.02083333, 0.02083333, 0.02083333,\n",
              "       0.02083333, 0.02083333, 0.02083333, 0.02083333, 0.02083333,\n",
              "       0.02083333, 0.02083333, 0.02083333, 0.02083333, 0.02083333,\n",
              "       0.02083333, 0.02083333, 0.02083333, 0.02083333, 0.02083333,\n",
              "       0.02083333, 0.02083333, 0.02083333, 0.02083333, 0.02083333,\n",
              "       0.02083333, 0.02083333, 0.02083333])"
            ]
          },
          "execution_count": 7,
          "metadata": {},
          "output_type": "execute_result"
        }
      ],
      "source": [
        "# Compute weight vector for equally weighted portfolio\n",
        "w_EWP = np.ones(48)/48\n",
        "w_EWP"
      ]
    },
    {
      "cell_type": "code",
      "execution_count": null,
      "metadata": {
        "id": "CY8qx6F1YDwy",
        "outputId": "d9d2bc8d-0b01-4544-b52b-b826c74fda16"
      },
      "outputs": [
        {
          "data": {
            "text/plain": [
              "array([-0.09435441,  0.1530272 ,  0.08662343,  0.1104785 ,  0.2995244 ,\n",
              "       -0.38133487,  0.18638871, -0.18630205, -0.31210067,  0.11605872,\n",
              "       -0.00342404,  0.47532814,  0.33062431, -0.13150861,  0.43435952,\n",
              "        0.17164913, -0.0262847 , -0.02106621, -0.37409459, -0.05767593,\n",
              "       -0.07967925,  0.25821426,  0.07855709, -0.0811106 , -0.04940718,\n",
              "        0.38047381, -0.05453656,  0.36913954, -0.1225659 ,  0.34867112,\n",
              "        0.42150699, -0.38450713, -0.46762073,  0.553589  , -0.43643119,\n",
              "        0.40769319, -0.00819824,  0.21278509, -0.06161164,  0.34724601,\n",
              "       -0.63145548,  0.08938611,  0.02751928, -0.0846205 , -0.20425472,\n",
              "       -0.32846163,  0.307658  , -0.5838947 ])"
            ]
          },
          "execution_count": 8,
          "metadata": {},
          "output_type": "execute_result"
        }
      ],
      "source": [
        "# Compute weight vector for tangency portfolio\n",
        "df_cov = (excess_rt[assets]).cov()\n",
        "V_cov = df_cov.values\n",
        "df_mu = (excess_rt[assets]).mean()\n",
        "V_mu = df_mu\n",
        "# weight for tangency portfolio\n",
        "w_TAN = np.linalg.inv(V_cov) @ (V_mu)\n",
        "w_TAN /= np.sum(w_TAN)\n",
        "w_TAN"
      ]
    },
    {
      "cell_type": "code",
      "execution_count": null,
      "metadata": {
        "id": "zpO8YkVuYDwz",
        "outputId": "44c833d0-2b84-4bbb-f143-cfcb53131f2a"
      },
      "outputs": [
        {
          "data": {
            "text/plain": [
              "array([ 0.07111003,  0.09457994, -0.00801643,  0.00550252, -0.03883012,\n",
              "       -0.04575143, -0.02797509,  0.04433541,  0.22697491, -0.04033657,\n",
              "       -0.02949257,  0.07423983,  0.00444643, -0.15673505, -0.06460357,\n",
              "       -0.03619626, -0.06297209, -0.13817986, -0.07137401,  0.06785085,\n",
              "       -0.01704981, -0.12036106, -0.04121485, -0.12470509, -0.04117267,\n",
              "        0.12137193,  0.05469262,  0.0218453 , -0.0036532 ,  0.12987745,\n",
              "        0.37864979,  0.10252557, -0.03843821, -0.05319288,  0.09090145,\n",
              "        0.03262493,  0.00490531,  0.1146428 ,  0.07612637,  0.22584111,\n",
              "        0.05221575,  0.1651965 ,  0.05852539, -0.0390151 , -0.03687624,\n",
              "        0.0761373 , -0.01767139, -0.04130592])"
            ]
          },
          "execution_count": 9,
          "metadata": {},
          "output_type": "execute_result"
        }
      ],
      "source": [
        "# weight for GMV portfolio\n",
        "w_GMV = np.linalg.inv(V_cov) @ np.ones((48,1))\n",
        "w_GMV /= np.sum(w_GMV)\n",
        "w_GMV.reshape(48)"
      ]
    },
    {
      "cell_type": "markdown",
      "metadata": {
        "id": "oAliUh9JYDw0"
      },
      "source": [
        "### 2-3,4 Calculate the realized (in-sample) expected returns, standard deviations, Sharpe ratios, and betas of every 48 industry portfolio, as well as the market portfolio (MKT), EWP, TAN, and GMV."
      ]
    },
    {
      "cell_type": "code",
      "execution_count": null,
      "metadata": {
        "id": "PP-yzIzYYDw2"
      },
      "outputs": [],
      "source": [
        "# Based on the weight computed in previous step, add columns for different portfolio\n",
        "excess_rt['EWP'] = excess_rt[assets].dot(w_EWP)\n",
        "excess_rt['TAN'] = excess_rt[assets].dot(w_TAN)\n",
        "excess_rt['GMV'] = excess_rt[assets].dot(w_GMV)\n",
        "# Add column for Mkt-rf as well\n",
        "excess_rt['Mkt'] = mkt_excess['Mkt-RF']"
      ]
    },
    {
      "cell_type": "code",
      "execution_count": null,
      "metadata": {
        "id": "u7kEBOdBYDw2"
      },
      "outputs": [],
      "source": [
        "# Summary table\n",
        "# expected return\n",
        "summary = pd.DataFrame(columns=excess_rt.columns)\n",
        "summary.loc['mean'] = excess_rt.mean()\n",
        "# standard deviation\n",
        "summary.loc['std_dev'] = excess_rt.std()\n",
        "# Sharpe Ratio\n",
        "summary.loc['sharpe'] = summary.loc['mean']/summary.loc['std_dev']\n",
        "# Beta\n",
        "test = assets + ['Mkt','EWP','TAN','GMV']\n",
        "summary.loc['beta'] = excess_rt[test].cov()['Mkt']/(excess_rt['Mkt'].std()**2)"
      ]
    },
    {
      "cell_type": "code",
      "execution_count": null,
      "metadata": {
        "scrolled": true,
        "id": "CG2-d-SYYDw3",
        "outputId": "3534398c-c9bd-432c-f5f0-11db5ab36a15"
      },
      "outputs": [
        {
          "data": {
            "text/html": [
              "<div>\n",
              "<style scoped>\n",
              "    .dataframe tbody tr th:only-of-type {\n",
              "        vertical-align: middle;\n",
              "    }\n",
              "\n",
              "    .dataframe tbody tr th {\n",
              "        vertical-align: top;\n",
              "    }\n",
              "\n",
              "    .dataframe thead th {\n",
              "        text-align: right;\n",
              "    }\n",
              "</style>\n",
              "<table border=\"1\" class=\"dataframe\">\n",
              "  <thead>\n",
              "    <tr style=\"text-align: right;\">\n",
              "      <th></th>\n",
              "      <th>Agric</th>\n",
              "      <th>Food</th>\n",
              "      <th>Soda</th>\n",
              "      <th>Beer</th>\n",
              "      <th>Smoke</th>\n",
              "      <th>Toys</th>\n",
              "      <th>Fun</th>\n",
              "      <th>Books</th>\n",
              "      <th>Hshld</th>\n",
              "      <th>Clths</th>\n",
              "      <th>...</th>\n",
              "      <th>Meals</th>\n",
              "      <th>Banks</th>\n",
              "      <th>Insur</th>\n",
              "      <th>RlEst</th>\n",
              "      <th>Fin</th>\n",
              "      <th>Other</th>\n",
              "      <th>EWP</th>\n",
              "      <th>TAN</th>\n",
              "      <th>GMV</th>\n",
              "      <th>Mkt</th>\n",
              "    </tr>\n",
              "  </thead>\n",
              "  <tbody>\n",
              "    <tr>\n",
              "      <th>mean</th>\n",
              "      <td>0.700861</td>\n",
              "      <td>0.836806</td>\n",
              "      <td>0.899500</td>\n",
              "      <td>0.991889</td>\n",
              "      <td>1.254278</td>\n",
              "      <td>0.531028</td>\n",
              "      <td>0.940722</td>\n",
              "      <td>0.480139</td>\n",
              "      <td>0.667972</td>\n",
              "      <td>0.822778</td>\n",
              "      <td>...</td>\n",
              "      <td>0.789917</td>\n",
              "      <td>0.683444</td>\n",
              "      <td>0.704111</td>\n",
              "      <td>0.191333</td>\n",
              "      <td>0.841583</td>\n",
              "      <td>0.284889</td>\n",
              "      <td>0.699881</td>\n",
              "      <td>2.456390</td>\n",
              "      <td>0.555440</td>\n",
              "      <td>0.636361</td>\n",
              "    </tr>\n",
              "    <tr>\n",
              "      <th>std_dev</th>\n",
              "      <td>6.400108</td>\n",
              "      <td>4.452608</td>\n",
              "      <td>7.002115</td>\n",
              "      <td>5.107061</td>\n",
              "      <td>6.847884</td>\n",
              "      <td>6.706478</td>\n",
              "      <td>7.596395</td>\n",
              "      <td>5.725771</td>\n",
              "      <td>4.499215</td>\n",
              "      <td>6.574475</td>\n",
              "      <td>...</td>\n",
              "      <td>5.077974</td>\n",
              "      <td>6.159674</td>\n",
              "      <td>5.394359</td>\n",
              "      <td>7.561326</td>\n",
              "      <td>6.750720</td>\n",
              "      <td>6.644728</td>\n",
              "      <td>4.695839</td>\n",
              "      <td>5.958956</td>\n",
              "      <td>2.833610</td>\n",
              "      <td>4.484527</td>\n",
              "    </tr>\n",
              "    <tr>\n",
              "      <th>sharpe</th>\n",
              "      <td>0.109508</td>\n",
              "      <td>0.187936</td>\n",
              "      <td>0.128461</td>\n",
              "      <td>0.194219</td>\n",
              "      <td>0.183163</td>\n",
              "      <td>0.079181</td>\n",
              "      <td>0.123838</td>\n",
              "      <td>0.083856</td>\n",
              "      <td>0.148464</td>\n",
              "      <td>0.125147</td>\n",
              "      <td>...</td>\n",
              "      <td>0.155557</td>\n",
              "      <td>0.110955</td>\n",
              "      <td>0.130527</td>\n",
              "      <td>0.025304</td>\n",
              "      <td>0.124666</td>\n",
              "      <td>0.042874</td>\n",
              "      <td>0.149043</td>\n",
              "      <td>0.412218</td>\n",
              "      <td>0.196018</td>\n",
              "      <td>0.141902</td>\n",
              "    </tr>\n",
              "    <tr>\n",
              "      <th>beta</th>\n",
              "      <td>0.781294</td>\n",
              "      <td>0.599901</td>\n",
              "      <td>0.825378</td>\n",
              "      <td>0.639299</td>\n",
              "      <td>0.632916</td>\n",
              "      <td>1.044329</td>\n",
              "      <td>1.344289</td>\n",
              "      <td>1.030524</td>\n",
              "      <td>0.716603</td>\n",
              "      <td>1.082334</td>\n",
              "      <td>...</td>\n",
              "      <td>0.838383</td>\n",
              "      <td>1.072768</td>\n",
              "      <td>0.926363</td>\n",
              "      <td>1.093516</td>\n",
              "      <td>1.324347</td>\n",
              "      <td>1.108609</td>\n",
              "      <td>0.995986</td>\n",
              "      <td>0.511414</td>\n",
              "      <td>0.387089</td>\n",
              "      <td>1.000000</td>\n",
              "    </tr>\n",
              "  </tbody>\n",
              "</table>\n",
              "<p>4 rows × 52 columns</p>\n",
              "</div>"
            ],
            "text/plain": [
              "            Agric     Food      Soda      Beer      Smoke     Toys      Fun    \\\n",
              "mean     0.700861  0.836806  0.899500  0.991889  1.254278  0.531028  0.940722   \n",
              "std_dev  6.400108  4.452608  7.002115  5.107061  6.847884  6.706478  7.596395   \n",
              "sharpe   0.109508  0.187936  0.128461  0.194219  0.183163  0.079181  0.123838   \n",
              "beta     0.781294  0.599901  0.825378  0.639299  0.632916  1.044329  1.344289   \n",
              "\n",
              "            Books     Hshld     Clths  ...     Meals     Banks     Insur  \\\n",
              "mean     0.480139  0.667972  0.822778  ...  0.789917  0.683444  0.704111   \n",
              "std_dev  5.725771  4.499215  6.574475  ...  5.077974  6.159674  5.394359   \n",
              "sharpe   0.083856  0.148464  0.125147  ...  0.155557  0.110955  0.130527   \n",
              "beta     1.030524  0.716603  1.082334  ...  0.838383  1.072768  0.926363   \n",
              "\n",
              "            RlEst     Fin       Other       EWP       TAN       GMV       Mkt  \n",
              "mean     0.191333  0.841583  0.284889  0.699881  2.456390  0.555440  0.636361  \n",
              "std_dev  7.561326  6.750720  6.644728  4.695839  5.958956  2.833610  4.484527  \n",
              "sharpe   0.025304  0.124666  0.042874  0.149043  0.412218  0.196018  0.141902  \n",
              "beta     1.093516  1.324347  1.108609  0.995986  0.511414  0.387089  1.000000  \n",
              "\n",
              "[4 rows x 52 columns]"
            ]
          },
          "execution_count": 15,
          "metadata": {},
          "output_type": "execute_result"
        }
      ],
      "source": [
        "summary"
      ]
    },
    {
      "cell_type": "markdown",
      "metadata": {
        "id": "pg4tGhRMYDw4"
      },
      "source": [
        "### 2-5-(a) The (ex-post) σ vs. E[r] diagram."
      ]
    },
    {
      "cell_type": "code",
      "execution_count": null,
      "metadata": {
        "id": "Z2LWFZsoYDw5"
      },
      "outputs": [],
      "source": [
        "from matplotlib import pyplot as plt\n",
        "import matplotlib.patches as mpatches\n",
        "import math \n",
        "import copy"
      ]
    },
    {
      "cell_type": "code",
      "execution_count": null,
      "metadata": {
        "id": "qcXN6jOaYDw6"
      },
      "outputs": [],
      "source": [
        "w_GT=np.vstack((w_GMV.transpose(),w_TAN.T))"
      ]
    },
    {
      "cell_type": "code",
      "execution_count": null,
      "metadata": {
        "id": "QzuXhlu0YDw7",
        "outputId": "553e7a7d-b428-49bf-cb90-03a490a59587"
      },
      "outputs": [
        {
          "data": {
            "text/plain": [
              "Text(0, 0.5, 'E[r] in %')"
            ]
          },
          "execution_count": 18,
          "metadata": {},
          "output_type": "execute_result"
        },
        {
          "data": {
            "image/png": "[encoded data removed]",
            "text/plain": [
              "<Figure size 432x288 with 1 Axes>"
            ]
          },
          "metadata": {
            "needs_background": "light"
          },
          "output_type": "display_data"
        }
      ],
      "source": [
        "x=[]\n",
        "y=[]\n",
        "# mean=mu.copy()\n",
        "# allows 25 times shorting\n",
        "for k in np.linspace(-3,3,100):\n",
        "    d=w_GT.transpose()@np.array([[1-k], [k]])\n",
        "    Ep=V_mu@d\n",
        "    x.append(Ep[0])\n",
        "    varp = d.transpose()@V_cov@d\n",
        "    stdp=np.sqrt(varp[0,0])\n",
        "    y.append(stdp)\n",
        "    \n",
        "\n",
        "plt.plot(y, x,label='Efficient Frontier');\n",
        "plt.plot(2.833609681,0.5554398,'ro')\n",
        "plt.annotate('min-variance',(2.833609681, 0.5554398))\n",
        "plt.plot(5.958955769, 2.456389897,'ro')\n",
        "plt.annotate('tangency portfolio',(5.958955769, 2.456389897))\n",
        "\n",
        "# Add points for the 48 assets\n",
        "plt.plot(summary.iloc[1,:48], summary.iloc[0,:48],'x',label='Asset')\n",
        "# CAL line\n",
        "rf_p = [0.0, 0.0]\n",
        "tan_p = [5.958955769, 2.456389897]\n",
        "x_values = [rf_p[0], tan_p[0]]\n",
        "# gather x-values\n",
        "y_values = [rf_p[1], tan_p[1]]\n",
        "# gather y-values\n",
        "plt.plot(x_values, y_values, 'y',label='CAL')\n",
        "plt.legend(loc='best')\n",
        "\n",
        "plt.xlabel(\"variance\")\n",
        "plt.ylabel(\"E[r] in %\")"
      ]
    },
    {
      "cell_type": "code",
      "execution_count": null,
      "metadata": {
        "id": "au-7GdhNYDw7",
        "outputId": "b4ef998f-4750-4867-dbba-0577b3a825f4"
      },
      "outputs": [
        {
          "data": {
            "text/plain": [
              "Text(0, 0.5, 'E[r] in %')"
            ]
          },
          "execution_count": 19,
          "metadata": {},
          "output_type": "execute_result"
        },
        {
          "data": {
            "image/png": "[encoded data removed]",
            "text/plain": [
              "<Figure size 432x288 with 1 Axes>"
            ]
          },
          "metadata": {
            "needs_background": "light"
          },
          "output_type": "display_data"
        }
      ],
      "source": [
        "# Plot beta vs E[r] diagram\n",
        "plt.plot(summary.iloc[3,:48], summary.iloc[0,:48],'x',label='Asset')\n",
        "# Add remaining portfolio and markets\n",
        "plt.plot(summary.iloc[3,48:], summary.iloc[0,48:],'ro',label='Asset')\n",
        "for i in [48,49,50,51]:\n",
        "    plt.annotate(summary.columns[i],(summary.iloc[3,i], summary.iloc[0,i]))\n",
        "\n",
        "# SML line\n",
        "A = [0, 0.0]\n",
        "B = [1, 0.636361]\n",
        "x_values = [A[0], B[0]]\n",
        "y_values = [A[1], B[1]]\n",
        "plt.plot(x_values, y_values)\n",
        "\n",
        "plt.xlabel(\"Beta\")\n",
        "plt.ylabel(\"E[r] in %\")"
      ]
    },
    {
      "cell_type": "code",
      "execution_count": null,
      "metadata": {
        "id": "AJJCPybeYDw8"
      },
      "outputs": [],
      "source": [
        ""
      ]
    }
  ],
  "metadata": {
    "kernelspec": {
      "display_name": "Python 3",
      "language": "python",
      "name": "python3"
    },
    "language_info": {
      "codemirror_mode": {
        "name": "ipython",
        "version": 3
      },
      "file_extension": ".py",
      "mimetype": "text/x-python",
      "name": "python",
      "nbconvert_exporter": "python",
      "pygments_lexer": "ipython3",
      "version": "3.8.3"
    },
    "colab": {
      "name": "gp1_q2.ipynb",
      "provenance": []
    }
  },
  "nbformat": 4,
  "nbformat_minor": 0
}