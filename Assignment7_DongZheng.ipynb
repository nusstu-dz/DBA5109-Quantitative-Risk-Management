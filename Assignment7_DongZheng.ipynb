{
 "cells": [
  {
   "cell_type": "code",
   "execution_count": 36,
   "metadata": {},
   "outputs": [],
   "source": [
    "import pandas as pd\n",
    "import numpy as np\n",
    "import matplotlib.pyplot as plt\n",
    "import scipy.optimize as opt\n",
    "from scipy.stats import norm\n",
    "import scipy.stats as st\n",
    "import math "
   ]
  },
  {
   "cell_type": "code",
   "execution_count": 2,
   "metadata": {},
   "outputs": [
    {
     "data": {
      "text/html": [
       "<div>\n",
       "<style scoped>\n",
       "    .dataframe tbody tr th:only-of-type {\n",
       "        vertical-align: middle;\n",
       "    }\n",
       "\n",
       "    .dataframe tbody tr th {\n",
       "        vertical-align: top;\n",
       "    }\n",
       "\n",
       "    .dataframe thead th {\n",
       "        text-align: right;\n",
       "    }\n",
       "</style>\n",
       "<table border=\"1\" class=\"dataframe\">\n",
       "  <thead>\n",
       "    <tr style=\"text-align: right;\">\n",
       "      <th></th>\n",
       "      <th>Year</th>\n",
       "      <th>Rate (%)</th>\n",
       "    </tr>\n",
       "  </thead>\n",
       "  <tbody>\n",
       "    <tr>\n",
       "      <th>0</th>\n",
       "      <td>1</td>\n",
       "      <td>2</td>\n",
       "    </tr>\n",
       "    <tr>\n",
       "      <th>1</th>\n",
       "      <td>2</td>\n",
       "      <td>4</td>\n",
       "    </tr>\n",
       "    <tr>\n",
       "      <th>2</th>\n",
       "      <td>3</td>\n",
       "      <td>7</td>\n",
       "    </tr>\n",
       "    <tr>\n",
       "      <th>3</th>\n",
       "      <td>4</td>\n",
       "      <td>12</td>\n",
       "    </tr>\n",
       "    <tr>\n",
       "      <th>4</th>\n",
       "      <td>5</td>\n",
       "      <td>6</td>\n",
       "    </tr>\n",
       "    <tr>\n",
       "      <th>5</th>\n",
       "      <td>6</td>\n",
       "      <td>5</td>\n",
       "    </tr>\n",
       "    <tr>\n",
       "      <th>6</th>\n",
       "      <td>7</td>\n",
       "      <td>8</td>\n",
       "    </tr>\n",
       "    <tr>\n",
       "      <th>7</th>\n",
       "      <td>8</td>\n",
       "      <td>14</td>\n",
       "    </tr>\n",
       "    <tr>\n",
       "      <th>8</th>\n",
       "      <td>9</td>\n",
       "      <td>10</td>\n",
       "    </tr>\n",
       "    <tr>\n",
       "      <th>9</th>\n",
       "      <td>10</td>\n",
       "      <td>2</td>\n",
       "    </tr>\n",
       "    <tr>\n",
       "      <th>10</th>\n",
       "      <td>11</td>\n",
       "      <td>3</td>\n",
       "    </tr>\n",
       "    <tr>\n",
       "      <th>11</th>\n",
       "      <td>12</td>\n",
       "      <td>2</td>\n",
       "    </tr>\n",
       "    <tr>\n",
       "      <th>12</th>\n",
       "      <td>13</td>\n",
       "      <td>6</td>\n",
       "    </tr>\n",
       "    <tr>\n",
       "      <th>13</th>\n",
       "      <td>14</td>\n",
       "      <td>7</td>\n",
       "    </tr>\n",
       "    <tr>\n",
       "      <th>14</th>\n",
       "      <td>15</td>\n",
       "      <td>9</td>\n",
       "    </tr>\n",
       "  </tbody>\n",
       "</table>\n",
       "</div>"
      ],
      "text/plain": [
       "    Year  Rate (%)\n",
       "0      1         2\n",
       "1      2         4\n",
       "2      3         7\n",
       "3      4        12\n",
       "4      5         6\n",
       "5      6         5\n",
       "6      7         8\n",
       "7      8        14\n",
       "8      9        10\n",
       "9     10         2\n",
       "10    11         3\n",
       "11    12         2\n",
       "12    13         6\n",
       "13    14         7\n",
       "14    15         9"
      ]
     },
     "execution_count": 2,
     "metadata": {},
     "output_type": "execute_result"
    }
   ],
   "source": [
    "df = pd.read_csv('ps7_data.csv')\n",
    "df"
   ]
  },
  {
   "cell_type": "code",
   "execution_count": 10,
   "metadata": {},
   "outputs": [
    {
     "data": {
      "text/plain": [
       "array([0.02, 0.04, 0.07, 0.12, 0.06, 0.05, 0.08, 0.14, 0.1 , 0.02, 0.03,\n",
       "       0.02, 0.06, 0.07, 0.09])"
      ]
     },
     "execution_count": 10,
     "metadata": {},
     "output_type": "execute_result"
    }
   ],
   "source": [
    "r = df.iloc[:,1]\n",
    "r = r.values / 100\n",
    "r"
   ]
  },
  {
   "cell_type": "code",
   "execution_count": 5,
   "metadata": {},
   "outputs": [
    {
     "data": {
      "text/plain": [
       "2.3263478740408408"
      ]
     },
     "execution_count": 5,
     "metadata": {},
     "output_type": "execute_result"
    }
   ],
   "source": [
    "norm.ppf(0.99)"
   ]
  },
  {
   "cell_type": "code",
   "execution_count": 6,
   "metadata": {},
   "outputs": [
    {
     "data": {
      "text/plain": [
       "0.99"
      ]
     },
     "execution_count": 6,
     "metadata": {},
     "output_type": "execute_result"
    }
   ],
   "source": [
    "norm.cdf(norm.ppf(0.99))"
   ]
  },
  {
   "cell_type": "code",
   "execution_count": 21,
   "metadata": {},
   "outputs": [
    {
     "data": {
      "text/plain": [
       "array([ 1.39455789, -0.68200863, -3.2010823 , -6.65027286, -2.41540991,\n",
       "       -1.58026308, -3.9469056 , -7.88553629, -5.34554489,  1.39455789,\n",
       "        0.29949075,  1.39455789, -2.41540991, -3.2010823 , -4.65994224])"
      ]
     },
     "execution_count": 21,
     "metadata": {},
     "output_type": "execute_result"
    }
   ],
   "source": [
    "ro = 0.1\n",
    "\n",
    "0.5 * (norm.ppf(r) * norm.ppf(r) - \n",
    "               ((np.sqrt(1 - ro) * norm.ppf(r) - norm.ppf(pd)) / np.sqrt(ro)) * ((np.sqrt(1 - ro) * norm.ppf(r) - norm.ppf(pd)) / np.sqrt(ro)) \n",
    "              )    "
   ]
  },
  {
   "cell_type": "code",
   "execution_count": 43,
   "metadata": {},
   "outputs": [],
   "source": [
    "def LL(paras):\n",
    "    pd = paras[0]\n",
    "    ro = paras[1]\n",
    "    return np.sum( \n",
    "        0.5 * np.log((1-ro) / ro) + \n",
    "        0.5 * (norm.ppf(r) ** 2 - \n",
    "               ((np.sqrt(1 - ro) * norm.ppf(r) - norm.ppf(pd)) / np.sqrt(ro)) ** 2 \n",
    "              )    \n",
    "    )"
   ]
  },
  {
   "cell_type": "code",
   "execution_count": 44,
   "metadata": {},
   "outputs": [
    {
     "name": "stdout",
     "output_type": "stream",
     "text": [
      "Initial guess of the (pd, ro) configuration:  (0.03, 0.05)\n",
      "Objective function value for the initial guess:  11.357183515685495\n",
      "************\n",
      "`xtol` termination condition is satisfied.\n",
      "Number of iterations: 23, function evaluations: 69, CG iterations: 40, optimality: 6.91e-06, constraint violation: 0.00e+00, execution time: 0.11 s.\n",
      "************\n",
      "Optimal PD:  6.47887462063505 %\n",
      "Optimal ro:  0.08594029542618654\n",
      "Optimal value for the optimal solution :  29.788798281050138\n"
     ]
    }
   ],
   "source": [
    "#Implement the Maximum Likelihood Method\n",
    "\n",
    "x0 = (0.03, 0.05) #Initial guess of pd and ro\n",
    "\n",
    "pd0 = x0[0]\n",
    "ro0 = x0[1]\n",
    "\n",
    "print('Initial guess of the (pd, ro) configuration: ', (pd0, ro0))\n",
    "print('Objective function value for the initial guess: ', LL(x0))\n",
    "print('************')\n",
    "\n",
    "\n",
    "\n",
    "res = opt.minimize( lambda x: - LL (x)  , x0, method='trust-constr', options={'disp': True, 'maxiter': 2000})\n",
    "\n",
    "paras_optimal =  res.x\n",
    "\n",
    "pd_optimal = paras_optimal[0]\n",
    "ro_optimal = paras_optimal[1]\n",
    "\n",
    "print('************')\n",
    "print('Optimal PD: ', pd_optimal * 100, '%')\n",
    "print('Optimal ro: ', ro_optimal)\n",
    "print('Optimal value for the optimal solution : ', LL (paras_optimal))\n",
    "\n"
   ]
  },
  {
   "cell_type": "code",
   "execution_count": 45,
   "metadata": {},
   "outputs": [
    {
     "data": {
      "image/png": "[encoded data removed]",
      "text/plain": [
       "<Figure size 432x288 with 1 Axes>"
      ]
     },
     "metadata": {
      "needs_background": "light"
     },
     "output_type": "display_data"
    }
   ],
   "source": [
    "plt.plot(df.iloc[:,0], r , label = 'Yearly Default Rates')\n",
    "plt.plot(df.iloc[:,0], pd_optimal * np.ones(len(df.iloc[:,0])) , 'k--', label = 'PD' )\n",
    "plt.legend()\n",
    "plt.show()"
   ]
  },
  {
   "cell_type": "code",
   "execution_count": 55,
   "metadata": {},
   "outputs": [
    {
     "name": "stderr",
     "output_type": "stream",
     "text": [
      "<ipython-input-55-b0068e7c0a8d>:3: RuntimeWarning: invalid value encountered in subtract\n",
      "  0.5 * ( norm.ppf(x) ** 2 - ((np.sqrt(1 - ro_optimal) * norm.ppf(x) - norm.ppf(pd_optimal)) / np.sqrt(ro_optimal)) ** 2)\n"
     ]
    },
    {
     "data": {
      "image/png": "[encoded data removed]",
      "text/plain": [
       "<Figure size 432x288 with 1 Axes>"
      ]
     },
     "metadata": {
      "needs_background": "light"
     },
     "output_type": "display_data"
    }
   ],
   "source": [
    "x = np.linspace(0, 0.5, 5000)\n",
    "y = ( np.sqrt((1-ro_optimal) / ro_optimal) * np.exp(\n",
    "               0.5 * ( norm.ppf(x) ** 2 - ((np.sqrt(1 - ro_optimal) * norm.ppf(x) - norm.ppf(pd_optimal)) / np.sqrt(ro_optimal)) ** 2) \n",
    "               )\n",
    "    )\n",
    "plt.plot(x, y , label = 'pdf')\n",
    "plt.legend()\n",
    "plt.show()"
   ]
  },
  {
   "cell_type": "code",
   "execution_count": 48,
   "metadata": {},
   "outputs": [
    {
     "data": {
      "text/plain": [
       "0.2617771982971884"
      ]
     },
     "execution_count": 48,
     "metadata": {},
     "output_type": "execute_result"
    }
   ],
   "source": [
    "# 99.9% worst case default rate is\n",
    "\n",
    "wcdr = norm.cdf(( norm.ppf(pd_optimal) + np.sqrt(ro_optimal) * norm.ppf(0.999)) / np.sqrt(1 - ro_optimal))\n",
    "wcdr"
   ]
  },
  {
   "cell_type": "code",
   "execution_count": 52,
   "metadata": {},
   "outputs": [
    {
     "name": "stdout",
     "output_type": "stream",
     "text": [
      "One-year credit VaR is  1.5706631897831302 million\n"
     ]
    }
   ],
   "source": [
    "# Credit VaR CVaR\n",
    "\n",
    "cvar = wcdr * 10 * ( 1 - 0.4)\n",
    "# cvar\n",
    "\n",
    "print('One-year credit VaR is ', cvar ,'million')"
   ]
  },
  {
   "cell_type": "code",
   "execution_count": null,
   "metadata": {},
   "outputs": [],
   "source": []
  }
 ],
 "metadata": {
  "kernelspec": {
   "display_name": "Python 3",
   "language": "python",
   "name": "python3"
  },
  "language_info": {
   "codemirror_mode": {
    "name": "ipython",
    "version": 3
   },
   "file_extension": ".py",
   "mimetype": "text/x-python",
   "name": "python",
   "nbconvert_exporter": "python",
   "pygments_lexer": "ipython3",
   "version": "3.8.3"
  }
 },
 "nbformat": 4,
 "nbformat_minor": 4
}
