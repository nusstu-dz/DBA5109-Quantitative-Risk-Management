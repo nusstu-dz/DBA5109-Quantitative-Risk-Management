{
  "cells": [
    {
      "cell_type": "code",
      "execution_count": null,
      "metadata": {
        "id": "Y3Bsiu4dOWAF"
      },
      "outputs": [],
      "source": [
        "from matplotlib import pyplot as plt\n",
        "import numpy as np\n",
        "import math"
      ]
    },
    {
      "cell_type": "code",
      "execution_count": null,
      "metadata": {
        "id": "IcuX80rDOWAJ"
      },
      "outputs": [],
      "source": [
        "import pandas as pd"
      ]
    },
    {
      "cell_type": "code",
      "execution_count": null,
      "metadata": {
        "id": "VFnpMrSUOWAK",
        "outputId": "09c5d824-90df-4fa2-bf36-9832254a780a"
      },
      "outputs": [
        {
          "data": {
            "text/html": [
              "<div>\n",
              "<style scoped>\n",
              "    .dataframe tbody tr th:only-of-type {\n",
              "        vertical-align: middle;\n",
              "    }\n",
              "\n",
              "    .dataframe tbody tr th {\n",
              "        vertical-align: top;\n",
              "    }\n",
              "\n",
              "    .dataframe thead th {\n",
              "        text-align: right;\n",
              "    }\n",
              "</style>\n",
              "<table border=\"1\" class=\"dataframe\">\n",
              "  <thead>\n",
              "    <tr style=\"text-align: right;\">\n",
              "      <th></th>\n",
              "      <th>Date</th>\n",
              "      <th>VW-Index</th>\n",
              "      <th>IBM</th>\n",
              "      <th>USX</th>\n",
              "      <th>GM</th>\n",
              "      <th>Rf</th>\n",
              "    </tr>\n",
              "  </thead>\n",
              "  <tbody>\n",
              "    <tr>\n",
              "      <th>0</th>\n",
              "      <td>30-Jan-26</td>\n",
              "      <td>0.00043</td>\n",
              "      <td>-0.01038</td>\n",
              "      <td>-0.01472</td>\n",
              "      <td>0.07447</td>\n",
              "      <td>0.00298</td>\n",
              "    </tr>\n",
              "    <tr>\n",
              "      <th>1</th>\n",
              "      <td>27-Feb-26</td>\n",
              "      <td>-0.03205</td>\n",
              "      <td>-0.02448</td>\n",
              "      <td>-0.05322</td>\n",
              "      <td>-0.01188</td>\n",
              "      <td>0.00301</td>\n",
              "    </tr>\n",
              "    <tr>\n",
              "      <th>2</th>\n",
              "      <td>31-Mar-26</td>\n",
              "      <td>-0.06458</td>\n",
              "      <td>-0.11559</td>\n",
              "      <td>-0.03200</td>\n",
              "      <td>-0.02541</td>\n",
              "      <td>0.00257</td>\n",
              "    </tr>\n",
              "    <tr>\n",
              "      <th>3</th>\n",
              "      <td>30-Apr-26</td>\n",
              "      <td>0.03726</td>\n",
              "      <td>0.08978</td>\n",
              "      <td>0.01756</td>\n",
              "      <td>0.10949</td>\n",
              "      <td>0.00257</td>\n",
              "    </tr>\n",
              "    <tr>\n",
              "      <th>4</th>\n",
              "      <td>28-May-26</td>\n",
              "      <td>0.01455</td>\n",
              "      <td>0.03693</td>\n",
              "      <td>0.02944</td>\n",
              "      <td>-0.02914</td>\n",
              "      <td>0.00224</td>\n",
              "    </tr>\n",
              "    <tr>\n",
              "      <th>...</th>\n",
              "      <td>...</td>\n",
              "      <td>...</td>\n",
              "      <td>...</td>\n",
              "      <td>...</td>\n",
              "      <td>...</td>\n",
              "      <td>...</td>\n",
              "    </tr>\n",
              "    <tr>\n",
              "      <th>883</th>\n",
              "      <td>31-Aug-99</td>\n",
              "      <td>-0.00961</td>\n",
              "      <td>-0.00800</td>\n",
              "      <td>0.03160</td>\n",
              "      <td>0.09202</td>\n",
              "      <td>0.00363</td>\n",
              "    </tr>\n",
              "    <tr>\n",
              "      <th>884</th>\n",
              "      <td>30-Sep-99</td>\n",
              "      <td>-0.02316</td>\n",
              "      <td>-0.02860</td>\n",
              "      <td>-0.06024</td>\n",
              "      <td>-0.05000</td>\n",
              "      <td>0.00367</td>\n",
              "    </tr>\n",
              "    <tr>\n",
              "      <th>885</th>\n",
              "      <td>29-Oct-99</td>\n",
              "      <td>0.06118</td>\n",
              "      <td>-0.18802</td>\n",
              "      <td>-0.00427</td>\n",
              "      <td>0.11917</td>\n",
              "      <td>0.00368</td>\n",
              "    </tr>\n",
              "    <tr>\n",
              "      <th>886</th>\n",
              "      <td>30-Nov-99</td>\n",
              "      <td>0.03293</td>\n",
              "      <td>0.05020</td>\n",
              "      <td>-0.08506</td>\n",
              "      <td>0.02928</td>\n",
              "      <td>0.00357</td>\n",
              "    </tr>\n",
              "    <tr>\n",
              "      <th>887</th>\n",
              "      <td>31-Dec-99</td>\n",
              "      <td>0.08135</td>\n",
              "      <td>0.04669</td>\n",
              "      <td>-0.06619</td>\n",
              "      <td>0.00955</td>\n",
              "      <td>0.00373</td>\n",
              "    </tr>\n",
              "  </tbody>\n",
              "</table>\n",
              "<p>888 rows × 6 columns</p>\n",
              "</div>"
            ],
            "text/plain": [
              "          Date  VW-Index      IBM      USX       GM       Rf\n",
              "0    30-Jan-26   0.00043 -0.01038 -0.01472  0.07447  0.00298\n",
              "1    27-Feb-26  -0.03205 -0.02448 -0.05322 -0.01188  0.00301\n",
              "2    31-Mar-26  -0.06458 -0.11559 -0.03200 -0.02541  0.00257\n",
              "3    30-Apr-26   0.03726  0.08978  0.01756  0.10949  0.00257\n",
              "4    28-May-26   0.01455  0.03693  0.02944 -0.02914  0.00224\n",
              "..         ...       ...      ...      ...      ...      ...\n",
              "883  31-Aug-99  -0.00961 -0.00800  0.03160  0.09202  0.00363\n",
              "884  30-Sep-99  -0.02316 -0.02860 -0.06024 -0.05000  0.00367\n",
              "885  29-Oct-99   0.06118 -0.18802 -0.00427  0.11917  0.00368\n",
              "886  30-Nov-99   0.03293  0.05020 -0.08506  0.02928  0.00357\n",
              "887  31-Dec-99   0.08135  0.04669 -0.06619  0.00955  0.00373\n",
              "\n",
              "[888 rows x 6 columns]"
            ]
          },
          "execution_count": 53,
          "metadata": {},
          "output_type": "execute_result"
        }
      ],
      "source": [
        "#df= pd.read_csv('D:/0.0 Jupyter Notebook/ps2_data.csv')\n",
        "df= pd.read_csv('ps2_data.csv')\n",
        "df"
      ]
    },
    {
      "cell_type": "markdown",
      "metadata": {
        "id": "00rEBX5sOWAL"
      },
      "source": [
        "### Mean and Std for all index between 1-Jan-1926 and 31-Dec-1999"
      ]
    },
    {
      "cell_type": "code",
      "execution_count": null,
      "metadata": {
        "id": "SiBYt6mJOWAM",
        "outputId": "ee0655a5-50ac-4c93-849a-564f3ab09abe"
      },
      "outputs": [
        {
          "name": "stdout",
          "output_type": "stream",
          "text": [
            "Geometric means are\n",
            "[0.008628478825573493, 0.012479518574236348, 0.0051212874964268185, 0.009918902500240412, 0.002961803591565726]\n"
          ]
        }
      ],
      "source": [
        "from scipy import stats\n",
        "df1= df.iloc[:, 1:]+1\n",
        "mean_i=[]\n",
        "for i in range(5):\n",
        "    mean_i.append(stats.gmean(df1.iloc[:,i],axis=0)-1)\n",
        "print(\"Geometric means are\")\n",
        "print(mean_i)"
      ]
    },
    {
      "cell_type": "code",
      "execution_count": null,
      "metadata": {
        "id": "C0oiXIxhOWAN",
        "outputId": "7f7271c6-695e-455f-aada-3a8989d37a4b"
      },
      "outputs": [
        {
          "name": "stdout",
          "output_type": "stream",
          "text": [
            "Standard deviations are:\n",
            "[0.0548437188418915, 0.06794077544072043, 0.092468620525805, 0.08378180745198777, 0.002438442714521311]\n"
          ]
        }
      ],
      "source": [
        "std_a=[]\n",
        "# a = np.std(df1.iloc[:,1])\n",
        "for i in range(1,6):\n",
        "    std_a.append(np.std(df.iloc[:,i]))\n",
        "print(\"Standard deviations are:\")\n",
        "print(std_a)"
      ]
    },
    {
      "cell_type": "code",
      "execution_count": null,
      "metadata": {
        "id": "UOfpPOuoOWAO",
        "outputId": "691074ba-8644-4afe-b7d9-f1f9e93a760c"
      },
      "outputs": [
        {
          "data": {
            "text/html": [
              "<div>\n",
              "<style scoped>\n",
              "    .dataframe tbody tr th:only-of-type {\n",
              "        vertical-align: middle;\n",
              "    }\n",
              "\n",
              "    .dataframe tbody tr th {\n",
              "        vertical-align: top;\n",
              "    }\n",
              "\n",
              "    .dataframe thead th {\n",
              "        text-align: right;\n",
              "    }\n",
              "</style>\n",
              "<table border=\"1\" class=\"dataframe\">\n",
              "  <thead>\n",
              "    <tr style=\"text-align: right;\">\n",
              "      <th></th>\n",
              "      <th>VW-Index</th>\n",
              "      <th>IBM</th>\n",
              "      <th>USX</th>\n",
              "      <th>GM</th>\n",
              "      <th>Rf</th>\n",
              "    </tr>\n",
              "  </thead>\n",
              "  <tbody>\n",
              "    <tr>\n",
              "      <th>mean</th>\n",
              "      <td>0.010129</td>\n",
              "      <td>0.014761</td>\n",
              "      <td>0.009149</td>\n",
              "      <td>0.013265</td>\n",
              "      <td>0.002965</td>\n",
              "    </tr>\n",
              "    <tr>\n",
              "      <th>std</th>\n",
              "      <td>0.054875</td>\n",
              "      <td>0.067979</td>\n",
              "      <td>0.092521</td>\n",
              "      <td>0.083829</td>\n",
              "      <td>0.002440</td>\n",
              "    </tr>\n",
              "    <tr>\n",
              "      <th>Geometric mean</th>\n",
              "      <td>1.008628</td>\n",
              "      <td>1.012480</td>\n",
              "      <td>1.005121</td>\n",
              "      <td>1.009919</td>\n",
              "      <td>1.002962</td>\n",
              "    </tr>\n",
              "  </tbody>\n",
              "</table>\n",
              "</div>"
            ],
            "text/plain": [
              "                VW-Index       IBM       USX        GM        Rf\n",
              "mean            0.010129  0.014761  0.009149  0.013265  0.002965\n",
              "std             0.054875  0.067979  0.092521  0.083829  0.002440\n",
              "Geometric mean  1.008628  1.012480  1.005121  1.009919  1.002962"
            ]
          },
          "execution_count": 63,
          "metadata": {},
          "output_type": "execute_result"
        }
      ],
      "source": [
        "df_describe = df.describe()\n",
        "selected_index = ['mean', 'std','Geometric mean']\n",
        "a_series = pd.Series(mean_i, index = df_describe.columns)\n",
        "a_series.name='Geometric mean'\n",
        "df_describe = df_describe.append(a_series, ignore_index=False)\n",
        "df_describe.loc[selected_index,:]\n",
        "# df_describe.append(df_gmean.T, ignore_index = True)"
      ]
    },
    {
      "cell_type": "markdown",
      "metadata": {
        "id": "jnmsKxVkOWAP"
      },
      "source": [
        "### covariance between each of the stocks"
      ]
    },
    {
      "cell_type": "code",
      "execution_count": null,
      "metadata": {
        "id": "Tywv5SPYOWAQ"
      },
      "outputs": [],
      "source": [
        "selected_stocks = df[['IBM','USX','GM']]"
      ]
    },
    {
      "cell_type": "code",
      "execution_count": null,
      "metadata": {
        "id": "9X9laWLHOWAQ",
        "outputId": "83be3dca-6105-4628-8f70-9d1ee8cc984e"
      },
      "outputs": [
        {
          "data": {
            "text/html": [
              "<div>\n",
              "<style scoped>\n",
              "    .dataframe tbody tr th:only-of-type {\n",
              "        vertical-align: middle;\n",
              "    }\n",
              "\n",
              "    .dataframe tbody tr th {\n",
              "        vertical-align: top;\n",
              "    }\n",
              "\n",
              "    .dataframe thead th {\n",
              "        text-align: right;\n",
              "    }\n",
              "</style>\n",
              "<table border=\"1\" class=\"dataframe\">\n",
              "  <thead>\n",
              "    <tr style=\"text-align: right;\">\n",
              "      <th></th>\n",
              "      <th>IBM</th>\n",
              "      <th>USX</th>\n",
              "      <th>GM</th>\n",
              "    </tr>\n",
              "  </thead>\n",
              "  <tbody>\n",
              "    <tr>\n",
              "      <th>IBM</th>\n",
              "      <td>0.004621</td>\n",
              "      <td>0.002613</td>\n",
              "      <td>0.002841</td>\n",
              "    </tr>\n",
              "    <tr>\n",
              "      <th>USX</th>\n",
              "      <td>0.002613</td>\n",
              "      <td>0.008560</td>\n",
              "      <td>0.004409</td>\n",
              "    </tr>\n",
              "    <tr>\n",
              "      <th>GM</th>\n",
              "      <td>0.002841</td>\n",
              "      <td>0.004409</td>\n",
              "      <td>0.007027</td>\n",
              "    </tr>\n",
              "  </tbody>\n",
              "</table>\n",
              "</div>"
            ],
            "text/plain": [
              "          IBM       USX        GM\n",
              "IBM  0.004621  0.002613  0.002841\n",
              "USX  0.002613  0.008560  0.004409\n",
              "GM   0.002841  0.004409  0.007027"
            ]
          },
          "execution_count": 65,
          "metadata": {},
          "output_type": "execute_result"
        }
      ],
      "source": [
        "cov_m=selected_stocks.cov()\n",
        "cov_m"
      ]
    },
    {
      "cell_type": "markdown",
      "metadata": {
        "id": "3aVjGhqrOWAR"
      },
      "source": [
        "### Normalised covariance (correlation)"
      ]
    },
    {
      "cell_type": "code",
      "execution_count": null,
      "metadata": {
        "id": "mk-lcrRhOWAR",
        "outputId": "c176b351-70b4-42f3-96fc-1ee7d812a0f6"
      },
      "outputs": [
        {
          "data": {
            "text/html": [
              "<div>\n",
              "<style scoped>\n",
              "    .dataframe tbody tr th:only-of-type {\n",
              "        vertical-align: middle;\n",
              "    }\n",
              "\n",
              "    .dataframe tbody tr th {\n",
              "        vertical-align: top;\n",
              "    }\n",
              "\n",
              "    .dataframe thead th {\n",
              "        text-align: right;\n",
              "    }\n",
              "</style>\n",
              "<table border=\"1\" class=\"dataframe\">\n",
              "  <thead>\n",
              "    <tr style=\"text-align: right;\">\n",
              "      <th></th>\n",
              "      <th>IBM</th>\n",
              "      <th>USX</th>\n",
              "      <th>GM</th>\n",
              "    </tr>\n",
              "  </thead>\n",
              "  <tbody>\n",
              "    <tr>\n",
              "      <th>IBM</th>\n",
              "      <td>1.000000</td>\n",
              "      <td>0.415461</td>\n",
              "      <td>0.498464</td>\n",
              "    </tr>\n",
              "    <tr>\n",
              "      <th>USX</th>\n",
              "      <td>0.415461</td>\n",
              "      <td>1.000000</td>\n",
              "      <td>0.568496</td>\n",
              "    </tr>\n",
              "    <tr>\n",
              "      <th>GM</th>\n",
              "      <td>0.498464</td>\n",
              "      <td>0.568496</td>\n",
              "      <td>1.000000</td>\n",
              "    </tr>\n",
              "  </tbody>\n",
              "</table>\n",
              "</div>"
            ],
            "text/plain": [
              "          IBM       USX        GM\n",
              "IBM  1.000000  0.415461  0.498464\n",
              "USX  0.415461  1.000000  0.568496\n",
              "GM   0.498464  0.568496  1.000000"
            ]
          },
          "execution_count": 66,
          "metadata": {},
          "output_type": "execute_result"
        }
      ],
      "source": [
        "selected_stocks.corr()"
      ]
    },
    {
      "cell_type": "code",
      "execution_count": null,
      "metadata": {
        "id": "rlkv9XUYOWAS",
        "outputId": "5f571982-30c2-4d65-b320-8beea97f4e1a"
      },
      "outputs": [
        {
          "data": {
            "text/html": [
              "<div>\n",
              "<style scoped>\n",
              "    .dataframe tbody tr th:only-of-type {\n",
              "        vertical-align: middle;\n",
              "    }\n",
              "\n",
              "    .dataframe tbody tr th {\n",
              "        vertical-align: top;\n",
              "    }\n",
              "\n",
              "    .dataframe thead th {\n",
              "        text-align: right;\n",
              "    }\n",
              "</style>\n",
              "<table border=\"1\" class=\"dataframe\">\n",
              "  <thead>\n",
              "    <tr style=\"text-align: right;\">\n",
              "      <th></th>\n",
              "      <th>IBM</th>\n",
              "      <th>USX</th>\n",
              "      <th>GM</th>\n",
              "    </tr>\n",
              "  </thead>\n",
              "  <tbody>\n",
              "    <tr>\n",
              "      <th>IBM</th>\n",
              "      <td>1.001127</td>\n",
              "      <td>0.415929</td>\n",
              "      <td>0.499026</td>\n",
              "    </tr>\n",
              "    <tr>\n",
              "      <th>USX</th>\n",
              "      <td>0.415929</td>\n",
              "      <td>1.001127</td>\n",
              "      <td>0.569137</td>\n",
              "    </tr>\n",
              "    <tr>\n",
              "      <th>GM</th>\n",
              "      <td>0.499026</td>\n",
              "      <td>0.569137</td>\n",
              "      <td>1.001127</td>\n",
              "    </tr>\n",
              "  </tbody>\n",
              "</table>\n",
              "</div>"
            ],
            "text/plain": [
              "          IBM       USX        GM\n",
              "IBM  1.001127  0.415929  0.499026\n",
              "USX  0.415929  1.001127  0.569137\n",
              "GM   0.499026  0.569137  1.001127"
            ]
          },
          "execution_count": 67,
          "metadata": {},
          "output_type": "execute_result"
        }
      ],
      "source": [
        "stdv=[0.06794077544072043, 0.092468620525805, 0.08378180745198777]\n",
        "for i in range(3):\n",
        "    cov_m.iloc[:,i]=cov_m.iloc[:,i]/(stdv[i])\n",
        "    cov_m.iloc[i,:]=cov_m.iloc[i,:]/(stdv[i])\n",
        "cov_m"
      ]
    },
    {
      "cell_type": "markdown",
      "metadata": {
        "id": "zHUWcVRrOWAS"
      },
      "source": [
        "### Random generating returns with same mean and std as GM return"
      ]
    },
    {
      "cell_type": "code",
      "execution_count": null,
      "metadata": {
        "id": "sxnnNO4OOWAS"
      },
      "outputs": [],
      "source": [
        "# Extract GM stock return during the time interval interested\n",
        "df_GM = df[['Date','GM']]"
      ]
    },
    {
      "cell_type": "code",
      "execution_count": null,
      "metadata": {
        "id": "kuHtHI5IOWAT",
        "outputId": "0490e3a4-e886-4f50-c3b2-252a19d4067f"
      },
      "outputs": [
        {
          "data": {
            "text/html": [
              "<div>\n",
              "<style scoped>\n",
              "    .dataframe tbody tr th:only-of-type {\n",
              "        vertical-align: middle;\n",
              "    }\n",
              "\n",
              "    .dataframe tbody tr th {\n",
              "        vertical-align: top;\n",
              "    }\n",
              "\n",
              "    .dataframe thead th {\n",
              "        text-align: right;\n",
              "    }\n",
              "</style>\n",
              "<table border=\"1\" class=\"dataframe\">\n",
              "  <thead>\n",
              "    <tr style=\"text-align: right;\">\n",
              "      <th></th>\n",
              "      <th>Date</th>\n",
              "      <th>GM</th>\n",
              "    </tr>\n",
              "  </thead>\n",
              "  <tbody>\n",
              "    <tr>\n",
              "      <th>0</th>\n",
              "      <td>30-Jan-26</td>\n",
              "      <td>0.07447</td>\n",
              "    </tr>\n",
              "    <tr>\n",
              "      <th>1</th>\n",
              "      <td>27-Feb-26</td>\n",
              "      <td>-0.01188</td>\n",
              "    </tr>\n",
              "    <tr>\n",
              "      <th>2</th>\n",
              "      <td>31-Mar-26</td>\n",
              "      <td>-0.02541</td>\n",
              "    </tr>\n",
              "    <tr>\n",
              "      <th>3</th>\n",
              "      <td>30-Apr-26</td>\n",
              "      <td>0.10949</td>\n",
              "    </tr>\n",
              "    <tr>\n",
              "      <th>4</th>\n",
              "      <td>28-May-26</td>\n",
              "      <td>-0.02914</td>\n",
              "    </tr>\n",
              "    <tr>\n",
              "      <th>...</th>\n",
              "      <td>...</td>\n",
              "      <td>...</td>\n",
              "    </tr>\n",
              "    <tr>\n",
              "      <th>883</th>\n",
              "      <td>31-Aug-99</td>\n",
              "      <td>0.09202</td>\n",
              "    </tr>\n",
              "    <tr>\n",
              "      <th>884</th>\n",
              "      <td>30-Sep-99</td>\n",
              "      <td>-0.05000</td>\n",
              "    </tr>\n",
              "    <tr>\n",
              "      <th>885</th>\n",
              "      <td>29-Oct-99</td>\n",
              "      <td>0.11917</td>\n",
              "    </tr>\n",
              "    <tr>\n",
              "      <th>886</th>\n",
              "      <td>30-Nov-99</td>\n",
              "      <td>0.02928</td>\n",
              "    </tr>\n",
              "    <tr>\n",
              "      <th>887</th>\n",
              "      <td>31-Dec-99</td>\n",
              "      <td>0.00955</td>\n",
              "    </tr>\n",
              "  </tbody>\n",
              "</table>\n",
              "<p>888 rows × 2 columns</p>\n",
              "</div>"
            ],
            "text/plain": [
              "          Date       GM\n",
              "0    30-Jan-26  0.07447\n",
              "1    27-Feb-26 -0.01188\n",
              "2    31-Mar-26 -0.02541\n",
              "3    30-Apr-26  0.10949\n",
              "4    28-May-26 -0.02914\n",
              "..         ...      ...\n",
              "883  31-Aug-99  0.09202\n",
              "884  30-Sep-99 -0.05000\n",
              "885  29-Oct-99  0.11917\n",
              "886  30-Nov-99  0.02928\n",
              "887  31-Dec-99  0.00955\n",
              "\n",
              "[888 rows x 2 columns]"
            ]
          },
          "execution_count": 77,
          "metadata": {},
          "output_type": "execute_result"
        }
      ],
      "source": [
        "df_GM"
      ]
    },
    {
      "cell_type": "code",
      "execution_count": null,
      "metadata": {
        "id": "YdDc7rA9OWAT",
        "outputId": "685a735e-bb47-4ac1-ad1d-4c33aa3c07e0"
      },
      "outputs": [
        {
          "name": "stderr",
          "output_type": "stream",
          "text": [
            "<ipython-input-78-2f47e22d04cd>:3: SettingWithCopyWarning: \n",
            "A value is trying to be set on a copy of a slice from a DataFrame.\n",
            "Try using .loc[row_indexer,col_indexer] = value instead\n",
            "\n",
            "See the caveats in the documentation: https://pandas.pydata.org/pandas-docs/stable/user_guide/indexing.html#returning-a-view-versus-a-copy\n",
            "  df_GM['rand']=pd.Series(gm_sample)\n"
          ]
        }
      ],
      "source": [
        "mean, std = 0.013265, 0.083829 # GM's mean and standard deviation\n",
        "gm_sample = np.random.normal(mean, std, df_GM.shape[0])\n",
        "df_GM['rand']=pd.Series(gm_sample)\n",
        "df_GM = df_GM.set_index('Date')"
      ]
    },
    {
      "cell_type": "code",
      "execution_count": null,
      "metadata": {
        "scrolled": true,
        "id": "DMvGv8kYOWAU",
        "outputId": "031c33cb-52ec-420b-f6e5-7a3098695e95"
      },
      "outputs": [
        {
          "data": {
            "text/plain": [
              "<matplotlib.axes._subplots.AxesSubplot at 0x11b144490>"
            ]
          },
          "execution_count": 79,
          "metadata": {},
          "output_type": "execute_result"
        },
        {
          "data": {
            "image/png": "[encoded data removed]",
            "text/plain": [
              "<Figure size 432x288 with 1 Axes>"
            ]
          },
          "metadata": {
            "needs_background": "light"
          },
          "output_type": "display_data"
        }
      ],
      "source": [
        "df_GM.plot()"
      ]
    },
    {
      "cell_type": "code",
      "execution_count": null,
      "metadata": {
        "id": "nHPVwqhsOWAU",
        "outputId": "5ec3b261-a900-454d-b291-4fd3bae59e26"
      },
      "outputs": [
        {
          "data": {
            "text/plain": [
              "<matplotlib.lines.Line2D at 0x11b2eb640>"
            ]
          },
          "execution_count": 80,
          "metadata": {},
          "output_type": "execute_result"
        },
        {
          "data": {
            "image/png": "[encoded data removed]",
            "text/plain": [
              "<Figure size 720x360 with 1 Axes>"
            ]
          },
          "metadata": {
            "needs_background": "light"
          },
          "output_type": "display_data"
        }
      ],
      "source": [
        "plt.figure(figsize=(10, 5))\n",
        "plt.ylim(0, 250)\n",
        "df_GM['GM'].hist(bins=30)\n",
        "plt.axvline(df_GM['GM'].mean(), color='k', linestyle='dashed', linewidth=2)"
      ]
    },
    {
      "cell_type": "code",
      "execution_count": null,
      "metadata": {
        "id": "BU6MVTYPOWAU",
        "outputId": "057bbf49-8d0c-43c1-8728-21d166046738"
      },
      "outputs": [
        {
          "data": {
            "text/plain": [
              "<matplotlib.lines.Line2D at 0x11b3baa00>"
            ]
          },
          "execution_count": 81,
          "metadata": {},
          "output_type": "execute_result"
        },
        {
          "data": {
            "image/png": "[encoded data removed]",
            "text/plain": [
              "<Figure size 720x360 with 1 Axes>"
            ]
          },
          "metadata": {
            "needs_background": "light"
          },
          "output_type": "display_data"
        }
      ],
      "source": [
        "plt.figure(figsize=(10, 5))\n",
        "plt.ylim(0, 250)\n",
        "df_GM['rand'].hist(bins=30)\n",
        "plt.axvline(df_GM['rand'].mean(), color='r', linestyle='dashed', linewidth=2)"
      ]
    },
    {
      "cell_type": "code",
      "execution_count": null,
      "metadata": {
        "id": "YUxn58ceOWAV"
      },
      "outputs": [],
      "source": [
        ""
      ]
    }
  ],
  "metadata": {
    "kernelspec": {
      "display_name": "Python 3",
      "language": "python",
      "name": "python3"
    },
    "language_info": {
      "codemirror_mode": {
        "name": "ipython",
        "version": 3
      },
      "file_extension": ".py",
      "mimetype": "text/x-python",
      "name": "python",
      "nbconvert_exporter": "python",
      "pygments_lexer": "ipython3",
      "version": "3.8.3"
    },
    "colab": {
      "name": "Assignment 2 - V3.ipynb",
      "provenance": []
    }
  },
  "nbformat": 4,
  "nbformat_minor": 0
}