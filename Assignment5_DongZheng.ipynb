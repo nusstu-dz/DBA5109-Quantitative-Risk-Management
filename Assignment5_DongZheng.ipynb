{
 "cells": [
  {
   "cell_type": "code",
   "execution_count": 2,
   "metadata": {},
   "outputs": [],
   "source": [
    "import pandas as pd\n",
    "import numpy as np\n",
    "import math\n",
    "import matplotlib.pyplot as plt"
   ]
  },
  {
   "cell_type": "code",
   "execution_count": 3,
   "metadata": {},
   "outputs": [],
   "source": [
    "data= pd.read_csv('ps5_data.csv')"
   ]
  },
  {
   "cell_type": "code",
   "execution_count": 4,
   "metadata": {},
   "outputs": [
    {
     "data": {
      "text/html": [
       "<div>\n",
       "<style scoped>\n",
       "    .dataframe tbody tr th:only-of-type {\n",
       "        vertical-align: middle;\n",
       "    }\n",
       "\n",
       "    .dataframe tbody tr th {\n",
       "        vertical-align: top;\n",
       "    }\n",
       "\n",
       "    .dataframe thead th {\n",
       "        text-align: right;\n",
       "    }\n",
       "</style>\n",
       "<table border=\"1\" class=\"dataframe\">\n",
       "  <thead>\n",
       "    <tr style=\"text-align: right;\">\n",
       "      <th></th>\n",
       "      <th>Date</th>\n",
       "      <th>NASDAQ Close</th>\n",
       "    </tr>\n",
       "  </thead>\n",
       "  <tbody>\n",
       "    <tr>\n",
       "      <th>0</th>\n",
       "      <td>21-Mar-00</td>\n",
       "      <td>4711.68</td>\n",
       "    </tr>\n",
       "    <tr>\n",
       "      <th>1</th>\n",
       "      <td>22-Mar-00</td>\n",
       "      <td>4864.75</td>\n",
       "    </tr>\n",
       "    <tr>\n",
       "      <th>2</th>\n",
       "      <td>23-Mar-00</td>\n",
       "      <td>4940.61</td>\n",
       "    </tr>\n",
       "    <tr>\n",
       "      <th>3</th>\n",
       "      <td>24-Mar-00</td>\n",
       "      <td>4963.03</td>\n",
       "    </tr>\n",
       "    <tr>\n",
       "      <th>4</th>\n",
       "      <td>27-Mar-00</td>\n",
       "      <td>4958.56</td>\n",
       "    </tr>\n",
       "    <tr>\n",
       "      <th>...</th>\n",
       "      <td>...</td>\n",
       "      <td>...</td>\n",
       "    </tr>\n",
       "    <tr>\n",
       "      <th>1496</th>\n",
       "      <td>6-Mar-06</td>\n",
       "      <td>2286.03</td>\n",
       "    </tr>\n",
       "    <tr>\n",
       "      <th>1497</th>\n",
       "      <td>7-Mar-06</td>\n",
       "      <td>2268.38</td>\n",
       "    </tr>\n",
       "    <tr>\n",
       "      <th>1498</th>\n",
       "      <td>8-Mar-06</td>\n",
       "      <td>2267.46</td>\n",
       "    </tr>\n",
       "    <tr>\n",
       "      <th>1499</th>\n",
       "      <td>9-Mar-06</td>\n",
       "      <td>2249.72</td>\n",
       "    </tr>\n",
       "    <tr>\n",
       "      <th>1500</th>\n",
       "      <td>10-Mar-06</td>\n",
       "      <td>2262.04</td>\n",
       "    </tr>\n",
       "  </tbody>\n",
       "</table>\n",
       "<p>1501 rows × 2 columns</p>\n",
       "</div>"
      ],
      "text/plain": [
       "           Date  NASDAQ Close\n",
       "0     21-Mar-00       4711.68\n",
       "1     22-Mar-00       4864.75\n",
       "2     23-Mar-00       4940.61\n",
       "3     24-Mar-00       4963.03\n",
       "4     27-Mar-00       4958.56\n",
       "...         ...           ...\n",
       "1496   6-Mar-06       2286.03\n",
       "1497   7-Mar-06       2268.38\n",
       "1498   8-Mar-06       2267.46\n",
       "1499   9-Mar-06       2249.72\n",
       "1500  10-Mar-06       2262.04\n",
       "\n",
       "[1501 rows x 2 columns]"
      ]
     },
     "execution_count": 4,
     "metadata": {},
     "output_type": "execute_result"
    }
   ],
   "source": [
    "data"
   ]
  },
  {
   "cell_type": "code",
   "execution_count": 5,
   "metadata": {},
   "outputs": [
    {
     "data": {
      "text/plain": [
       "array([[2262.04]])"
      ]
     },
     "execution_count": 5,
     "metadata": {},
     "output_type": "execute_result"
    }
   ],
   "source": [
    "#   reshape((1,-1)).astype(float)\n",
    "last_prices = data.iloc[-1,1].reshape((1,-1))\n",
    "last_prices"
   ]
  },
  {
   "cell_type": "code",
   "execution_count": 13,
   "metadata": {
    "scrolled": true
   },
   "outputs": [
    {
     "data": {
      "text/html": [
       "<div>\n",
       "<style scoped>\n",
       "    .dataframe tbody tr th:only-of-type {\n",
       "        vertical-align: middle;\n",
       "    }\n",
       "\n",
       "    .dataframe tbody tr th {\n",
       "        vertical-align: top;\n",
       "    }\n",
       "\n",
       "    .dataframe thead th {\n",
       "        text-align: right;\n",
       "    }\n",
       "</style>\n",
       "<table border=\"1\" class=\"dataframe\">\n",
       "  <thead>\n",
       "    <tr style=\"text-align: right;\">\n",
       "      <th></th>\n",
       "      <th>NASDAQ Close</th>\n",
       "    </tr>\n",
       "  </thead>\n",
       "  <tbody>\n",
       "    <tr>\n",
       "      <th>1</th>\n",
       "      <td>4864.75</td>\n",
       "    </tr>\n",
       "    <tr>\n",
       "      <th>2</th>\n",
       "      <td>4940.61</td>\n",
       "    </tr>\n",
       "    <tr>\n",
       "      <th>3</th>\n",
       "      <td>4963.03</td>\n",
       "    </tr>\n",
       "    <tr>\n",
       "      <th>4</th>\n",
       "      <td>4958.56</td>\n",
       "    </tr>\n",
       "    <tr>\n",
       "      <th>5</th>\n",
       "      <td>4833.89</td>\n",
       "    </tr>\n",
       "    <tr>\n",
       "      <th>...</th>\n",
       "      <td>...</td>\n",
       "    </tr>\n",
       "    <tr>\n",
       "      <th>1496</th>\n",
       "      <td>2286.03</td>\n",
       "    </tr>\n",
       "    <tr>\n",
       "      <th>1497</th>\n",
       "      <td>2268.38</td>\n",
       "    </tr>\n",
       "    <tr>\n",
       "      <th>1498</th>\n",
       "      <td>2267.46</td>\n",
       "    </tr>\n",
       "    <tr>\n",
       "      <th>1499</th>\n",
       "      <td>2249.72</td>\n",
       "    </tr>\n",
       "    <tr>\n",
       "      <th>1500</th>\n",
       "      <td>2262.04</td>\n",
       "    </tr>\n",
       "  </tbody>\n",
       "</table>\n",
       "<p>1500 rows × 1 columns</p>\n",
       "</div>"
      ],
      "text/plain": [
       "      NASDAQ Close\n",
       "1          4864.75\n",
       "2          4940.61\n",
       "3          4963.03\n",
       "4          4958.56\n",
       "5          4833.89\n",
       "...            ...\n",
       "1496       2286.03\n",
       "1497       2268.38\n",
       "1498       2267.46\n",
       "1499       2249.72\n",
       "1500       2262.04\n",
       "\n",
       "[1500 rows x 1 columns]"
      ]
     },
     "execution_count": 13,
     "metadata": {},
     "output_type": "execute_result"
    }
   ],
   "source": [
    "data.iloc[1:, [1]]"
   ]
  },
  {
   "cell_type": "code",
   "execution_count": 16,
   "metadata": {},
   "outputs": [
    {
     "data": {
      "text/html": [
       "<div>\n",
       "<style scoped>\n",
       "    .dataframe tbody tr th:only-of-type {\n",
       "        vertical-align: middle;\n",
       "    }\n",
       "\n",
       "    .dataframe tbody tr th {\n",
       "        vertical-align: top;\n",
       "    }\n",
       "\n",
       "    .dataframe thead th {\n",
       "        text-align: right;\n",
       "    }\n",
       "</style>\n",
       "<table border=\"1\" class=\"dataframe\">\n",
       "  <thead>\n",
       "    <tr style=\"text-align: right;\">\n",
       "      <th></th>\n",
       "      <th>NASDAQ Close</th>\n",
       "      <th>Portfolio Value</th>\n",
       "      <th>Loss</th>\n",
       "    </tr>\n",
       "  </thead>\n",
       "  <tbody>\n",
       "    <tr>\n",
       "      <th>1</th>\n",
       "      <td>2335.527687</td>\n",
       "      <td>10324.873506</td>\n",
       "      <td>-324.873506</td>\n",
       "    </tr>\n",
       "    <tr>\n",
       "      <th>2</th>\n",
       "      <td>2297.313828</td>\n",
       "      <td>10155.938126</td>\n",
       "      <td>-155.938126</td>\n",
       "    </tr>\n",
       "    <tr>\n",
       "      <th>3</th>\n",
       "      <td>2272.304914</td>\n",
       "      <td>10045.379012</td>\n",
       "      <td>-45.379012</td>\n",
       "    </tr>\n",
       "    <tr>\n",
       "      <th>4</th>\n",
       "      <td>2260.002672</td>\n",
       "      <td>9990.993405</td>\n",
       "      <td>9.006595</td>\n",
       "    </tr>\n",
       "    <tr>\n",
       "      <th>5</th>\n",
       "      <td>2205.166931</td>\n",
       "      <td>9748.576200</td>\n",
       "      <td>251.423800</td>\n",
       "    </tr>\n",
       "    <tr>\n",
       "      <th>...</th>\n",
       "      <td>...</td>\n",
       "      <td>...</td>\n",
       "      <td>...</td>\n",
       "    </tr>\n",
       "    <tr>\n",
       "      <th>1496</th>\n",
       "      <td>2245.761878</td>\n",
       "      <td>9928.037870</td>\n",
       "      <td>71.962130</td>\n",
       "    </tr>\n",
       "    <tr>\n",
       "      <th>1497</th>\n",
       "      <td>2244.575222</td>\n",
       "      <td>9922.791914</td>\n",
       "      <td>77.208086</td>\n",
       "    </tr>\n",
       "    <tr>\n",
       "      <th>1498</th>\n",
       "      <td>2261.122571</td>\n",
       "      <td>9995.944242</td>\n",
       "      <td>4.055758</td>\n",
       "    </tr>\n",
       "    <tr>\n",
       "      <th>1499</th>\n",
       "      <td>2244.342405</td>\n",
       "      <td>9921.762677</td>\n",
       "      <td>78.237323</td>\n",
       "    </tr>\n",
       "    <tr>\n",
       "      <th>1500</th>\n",
       "      <td>2274.427467</td>\n",
       "      <td>10054.762370</td>\n",
       "      <td>-54.762370</td>\n",
       "    </tr>\n",
       "  </tbody>\n",
       "</table>\n",
       "<p>1500 rows × 3 columns</p>\n",
       "</div>"
      ],
      "text/plain": [
       "      NASDAQ Close  Portfolio Value        Loss\n",
       "1      2335.527687     10324.873506 -324.873506\n",
       "2      2297.313828     10155.938126 -155.938126\n",
       "3      2272.304914     10045.379012  -45.379012\n",
       "4      2260.002672      9990.993405    9.006595\n",
       "5      2205.166931      9748.576200  251.423800\n",
       "...            ...              ...         ...\n",
       "1496   2245.761878      9928.037870   71.962130\n",
       "1497   2244.575222      9922.791914   77.208086\n",
       "1498   2261.122571      9995.944242    4.055758\n",
       "1499   2244.342405      9921.762677   78.237323\n",
       "1500   2274.427467     10054.762370  -54.762370\n",
       "\n",
       "[1500 rows x 3 columns]"
      ]
     },
     "execution_count": 16,
     "metadata": {},
     "output_type": "execute_result"
    }
   ],
   "source": [
    "(data.shift(periods=1).iloc[1:, 1])\n",
    "\n",
    "posisions= 10000\n",
    "irange = [1]\n",
    "df_simulation = 2262.04 * (data.iloc[1:, [1]]) / (data.shift(periods=1).iloc[1:, [1]])\n",
    "df_simulation['Portfolio Value']= posisions/2262.04* (df_simulation.values)\n",
    "df_simulation['Loss'] = posisions - df_simulation['Portfolio Value'] \n",
    "df_simulation"
   ]
  },
  {
   "cell_type": "code",
   "execution_count": 17,
   "metadata": {},
   "outputs": [
    {
     "data": {
      "text/plain": [
       "<matplotlib.axes._subplots.AxesSubplot at 0x168990e3ec8>"
      ]
     },
     "execution_count": 17,
     "metadata": {},
     "output_type": "execute_result"
    },
    {
     "data": {
      "image/png": "[encoded data removed]",
      "text/plain": [
       "<Figure size 432x288 with 1 Axes>"
      ]
     },
     "metadata": {
      "needs_background": "light"
     },
     "output_type": "display_data"
    }
   ],
   "source": [
    "df_simulation['Loss'].hist()"
   ]
  },
  {
   "cell_type": "code",
   "execution_count": 19,
   "metadata": {},
   "outputs": [
    {
     "name": "stdout",
     "output_type": "stream",
     "text": [
      "VaR:  538.9382836766908\n",
      "ES  665.01654732069\n"
     ]
    }
   ],
   "source": [
    "alpha = 0.99\n",
    "losses= df_simulation.Loss.values\n",
    "VaR  = np.percentile(losses, alpha * 100, interpolation = 'higher') \n",
    "ES = np.mean(losses [losses > VaR])\n",
    "\n",
    "print('VaR: ', VaR)\n",
    "print('ES ', ES)"
   ]
  },
  {
   "cell_type": "markdown",
   "metadata": {},
   "source": [
    "# VaR and ES: With Weights"
   ]
  },
  {
   "cell_type": "code",
   "execution_count": 61,
   "metadata": {},
   "outputs": [
    {
     "data": {
      "text/html": [
       "<div>\n",
       "<style scoped>\n",
       "    .dataframe tbody tr th:only-of-type {\n",
       "        vertical-align: middle;\n",
       "    }\n",
       "\n",
       "    .dataframe tbody tr th {\n",
       "        vertical-align: top;\n",
       "    }\n",
       "\n",
       "    .dataframe thead th {\n",
       "        text-align: right;\n",
       "    }\n",
       "</style>\n",
       "<table border=\"1\" class=\"dataframe\">\n",
       "  <thead>\n",
       "    <tr style=\"text-align: right;\">\n",
       "      <th></th>\n",
       "      <th>index</th>\n",
       "      <th>Loss</th>\n",
       "    </tr>\n",
       "  </thead>\n",
       "  <tbody>\n",
       "    <tr>\n",
       "      <th>0</th>\n",
       "      <td>1</td>\n",
       "      <td>-324.873506</td>\n",
       "    </tr>\n",
       "    <tr>\n",
       "      <th>1</th>\n",
       "      <td>2</td>\n",
       "      <td>-155.938126</td>\n",
       "    </tr>\n",
       "    <tr>\n",
       "      <th>2</th>\n",
       "      <td>3</td>\n",
       "      <td>-45.379012</td>\n",
       "    </tr>\n",
       "    <tr>\n",
       "      <th>3</th>\n",
       "      <td>4</td>\n",
       "      <td>9.006595</td>\n",
       "    </tr>\n",
       "    <tr>\n",
       "      <th>4</th>\n",
       "      <td>5</td>\n",
       "      <td>251.423800</td>\n",
       "    </tr>\n",
       "    <tr>\n",
       "      <th>...</th>\n",
       "      <td>...</td>\n",
       "      <td>...</td>\n",
       "    </tr>\n",
       "    <tr>\n",
       "      <th>1495</th>\n",
       "      <td>1496</td>\n",
       "      <td>71.962130</td>\n",
       "    </tr>\n",
       "    <tr>\n",
       "      <th>1496</th>\n",
       "      <td>1497</td>\n",
       "      <td>77.208086</td>\n",
       "    </tr>\n",
       "    <tr>\n",
       "      <th>1497</th>\n",
       "      <td>1498</td>\n",
       "      <td>4.055758</td>\n",
       "    </tr>\n",
       "    <tr>\n",
       "      <th>1498</th>\n",
       "      <td>1499</td>\n",
       "      <td>78.237323</td>\n",
       "    </tr>\n",
       "    <tr>\n",
       "      <th>1499</th>\n",
       "      <td>1500</td>\n",
       "      <td>-54.762370</td>\n",
       "    </tr>\n",
       "  </tbody>\n",
       "</table>\n",
       "<p>1500 rows × 2 columns</p>\n",
       "</div>"
      ],
      "text/plain": [
       "      index        Loss\n",
       "0         1 -324.873506\n",
       "1         2 -155.938126\n",
       "2         3  -45.379012\n",
       "3         4    9.006595\n",
       "4         5  251.423800\n",
       "...     ...         ...\n",
       "1495   1496   71.962130\n",
       "1496   1497   77.208086\n",
       "1497   1498    4.055758\n",
       "1498   1499   78.237323\n",
       "1499   1500  -54.762370\n",
       "\n",
       "[1500 rows x 2 columns]"
      ]
     },
     "execution_count": 61,
     "metadata": {},
     "output_type": "execute_result"
    }
   ],
   "source": [
    "Lambda = 0.995\n",
    "df_loss= df_simulation[['Loss']]\n",
    "df_loss.reset_index(inplace = True)\n",
    "n = len(df_loss)\n",
    "df_loss"
   ]
  },
  {
   "cell_type": "code",
   "execution_count": 63,
   "metadata": {},
   "outputs": [
    {
     "data": {
      "text/html": [
       "<div>\n",
       "<style scoped>\n",
       "    .dataframe tbody tr th:only-of-type {\n",
       "        vertical-align: middle;\n",
       "    }\n",
       "\n",
       "    .dataframe tbody tr th {\n",
       "        vertical-align: top;\n",
       "    }\n",
       "\n",
       "    .dataframe thead th {\n",
       "        text-align: right;\n",
       "    }\n",
       "</style>\n",
       "<table border=\"1\" class=\"dataframe\">\n",
       "  <thead>\n",
       "    <tr style=\"text-align: right;\">\n",
       "      <th></th>\n",
       "      <th>index</th>\n",
       "      <th>Loss</th>\n",
       "      <th>Weight</th>\n",
       "      <th>Cum Weight</th>\n",
       "    </tr>\n",
       "  </thead>\n",
       "  <tbody>\n",
       "    <tr>\n",
       "      <th>17</th>\n",
       "      <td>18</td>\n",
       "      <td>966.851430</td>\n",
       "      <td>0.000003</td>\n",
       "      <td>0.000003</td>\n",
       "    </tr>\n",
       "    <tr>\n",
       "      <th>8</th>\n",
       "      <td>9</td>\n",
       "      <td>763.531555</td>\n",
       "      <td>0.000003</td>\n",
       "      <td>0.000006</td>\n",
       "    </tr>\n",
       "    <tr>\n",
       "      <th>197</th>\n",
       "      <td>198</td>\n",
       "      <td>723.167592</td>\n",
       "      <td>0.000007</td>\n",
       "      <td>0.000013</td>\n",
       "    </tr>\n",
       "    <tr>\n",
       "      <th>190</th>\n",
       "      <td>191</td>\n",
       "      <td>712.383197</td>\n",
       "      <td>0.000007</td>\n",
       "      <td>0.000020</td>\n",
       "    </tr>\n",
       "    <tr>\n",
       "      <th>15</th>\n",
       "      <td>16</td>\n",
       "      <td>705.811287</td>\n",
       "      <td>0.000003</td>\n",
       "      <td>0.000023</td>\n",
       "    </tr>\n",
       "    <tr>\n",
       "      <th>...</th>\n",
       "      <td>...</td>\n",
       "      <td>...</td>\n",
       "      <td>...</td>\n",
       "      <td>...</td>\n",
       "    </tr>\n",
       "    <tr>\n",
       "      <th>47</th>\n",
       "      <td>48</td>\n",
       "      <td>-793.638908</td>\n",
       "      <td>0.000003</td>\n",
       "      <td>0.999965</td>\n",
       "    </tr>\n",
       "    <tr>\n",
       "      <th>270</th>\n",
       "      <td>271</td>\n",
       "      <td>-812.283566</td>\n",
       "      <td>0.000011</td>\n",
       "      <td>0.999976</td>\n",
       "    </tr>\n",
       "    <tr>\n",
       "      <th>262</th>\n",
       "      <td>263</td>\n",
       "      <td>-892.116183</td>\n",
       "      <td>0.000010</td>\n",
       "      <td>0.999986</td>\n",
       "    </tr>\n",
       "    <tr>\n",
       "      <th>179</th>\n",
       "      <td>180</td>\n",
       "      <td>-1047.691867</td>\n",
       "      <td>0.000007</td>\n",
       "      <td>0.999993</td>\n",
       "    </tr>\n",
       "    <tr>\n",
       "      <th>198</th>\n",
       "      <td>199</td>\n",
       "      <td>-1417.320430</td>\n",
       "      <td>0.000007</td>\n",
       "      <td>1.000000</td>\n",
       "    </tr>\n",
       "  </tbody>\n",
       "</table>\n",
       "<p>1500 rows × 4 columns</p>\n",
       "</div>"
      ],
      "text/plain": [
       "     index         Loss    Weight  Cum Weight\n",
       "17      18   966.851430  0.000003    0.000003\n",
       "8        9   763.531555  0.000003    0.000006\n",
       "197    198   723.167592  0.000007    0.000013\n",
       "190    191   712.383197  0.000007    0.000020\n",
       "15      16   705.811287  0.000003    0.000023\n",
       "..     ...          ...       ...         ...\n",
       "47      48  -793.638908  0.000003    0.999965\n",
       "270    271  -812.283566  0.000011    0.999976\n",
       "262    263  -892.116183  0.000010    0.999986\n",
       "179    180 -1047.691867  0.000007    0.999993\n",
       "198    199 -1417.320430  0.000007    1.000000\n",
       "\n",
       "[1500 rows x 4 columns]"
      ]
     },
     "execution_count": 63,
     "metadata": {},
     "output_type": "execute_result"
    }
   ],
   "source": [
    "df_loss['Weight'] = np.power( Lambda, n - df_loss['index']) * (1- Lambda) / (1- np.power(Lambda, n))\n",
    "df_loss.sort_values(by = 'Loss', ascending = False,inplace = True)\n",
    "df_loss['Cum Weight'] = np.cumsum(df_loss.Weight)\n",
    "df_loss"
   ]
  },
  {
   "cell_type": "code",
   "execution_count": 64,
   "metadata": {},
   "outputs": [
    {
     "data": {
      "text/plain": [
       "162"
      ]
     },
     "execution_count": 64,
     "metadata": {},
     "output_type": "execute_result"
    }
   ],
   "source": [
    "weights = df_loss['Weight'].values\n",
    "losses_sorted=df_loss['Loss'].values\n",
    "cum_weights = df_loss['Cum Weight'].values\n",
    "# Critial_index = np.where(cum_weights >= 1 - alpha, np.arange(n) , np.inf).argmin()\n",
    "Critial_index =np.argmax(cum_weights >= 0.01)\n",
    "# Critial_index= np.argwhere(cum_weights >= 0.01)\n",
    "Critial_index"
   ]
  },
  {
   "cell_type": "code",
   "execution_count": 49,
   "metadata": {},
   "outputs": [
    {
     "name": "stdout",
     "output_type": "stream",
     "text": [
      "VaR:  229.4014803021073\n",
      "ES  271.288427579489\n"
     ]
    }
   ],
   "source": [
    "# vritical index VaR 和 ES\n",
    "alpha=0.99\n",
    "VaR  = df_loss.Loss.iloc[Critial_index]\n",
    "w_for_ES = weights[0:Critial_index].tolist() + [1 - alpha - cum_weights[Critial_index-1]]\n",
    "ES = np.sum( losses_sorted[0: Critial_index + 1] * w_for_ES )/ (1-alpha)\n",
    "\n",
    "#print('Weight for ES: ', w_for_ES)\n",
    "print('VaR: ', VaR)\n",
    "print('ES ', ES)\n"
   ]
  },
  {
   "cell_type": "markdown",
   "metadata": {},
   "source": [
    "# VaR and ES: Extreme Value Theory"
   ]
  },
  {
   "cell_type": "code",
   "execution_count": 66,
   "metadata": {},
   "outputs": [
    {
     "data": {
      "text/plain": [
       "316.8203087786169"
      ]
     },
     "execution_count": 66,
     "metadata": {},
     "output_type": "execute_result"
    }
   ],
   "source": [
    "np.percentile(losses, 0.95 * 100, interpolation = 'higher') "
   ]
  },
  {
   "cell_type": "code",
   "execution_count": 70,
   "metadata": {},
   "outputs": [],
   "source": [
    "import scipy.optimize as opt"
   ]
  },
  {
   "cell_type": "code",
   "execution_count": 72,
   "metadata": {},
   "outputs": [],
   "source": [
    "# Initialization\n",
    "u = 300\n",
    "tail_losses = losses_sorted[losses_sorted > u]\n",
    "\n",
    "n_u = len(tail_losses )\n",
    "\n",
    "# Definition the log likelihood function \n",
    "def EVT_likelihood (paras):\n",
    "    beta = paras[0]\n",
    "    xi = paras[1]\n",
    "    return  (-1/xi -1) * np.sum( np.log(1 + xi * (tail_losses - u)/beta ) ) - n_u * np.log(beta) \n"
   ]
  },
  {
   "cell_type": "code",
   "execution_count": 78,
   "metadata": {},
   "outputs": [
    {
     "name": "stdout",
     "output_type": "stream",
     "text": [
      "Initial guess of the (beta, xi) configuration:  (10, 1)\n",
      "Log likelihood for the initial guess:  -684.0302174563213\n",
      "Optimization terminated successfully.    (Exit mode 0)\n",
      "            Current function value: 515.8371997734989\n",
      "            Iterations: 22\n",
      "            Function evaluations: 95\n",
      "            Gradient evaluations: 22\n",
      "Optimal (beta, xi) configuration:  112.37778496959668 0.07405735503257309\n",
      "Log likelihood for the optimal solution :  -515.8371997734989\n"
     ]
    }
   ],
   "source": [
    "x0 = (10, 1) #Initial guess of beta and xi\n",
    "print('Initial guess of the (beta, xi) configuration: ', x0)\n",
    "print('Log likelihood for the initial guess: ', EVT_likelihood ((10, 0.3)))\n",
    "\n",
    "\n",
    "res = opt.minimize( lambda x: - EVT_likelihood (x)  , x0, method='SLSQP',  options={ 'ftol': 1e-11, 'disp': True})\n",
    "\n",
    "beta_optimal, xi_optimal =  res.x\n",
    "\n",
    "print('Optimal (beta, xi) configuration: ', beta_optimal, xi_optimal )\n",
    "print('Log likelihood for the optimal solution : ', EVT_likelihood ((beta_optimal, xi_optimal)))\n"
   ]
  },
  {
   "cell_type": "code",
   "execution_count": 79,
   "metadata": {},
   "outputs": [
    {
     "name": "stdout",
     "output_type": "stream",
     "text": [
      "VaR:  513.8908976531621\n",
      "ES  652.3638147525178\n"
     ]
    }
   ],
   "source": [
    "VaR = u + beta_optimal/xi_optimal * (np.power(n/n_u * (1-alpha),-xi_optimal) - 1)\n",
    "ES  = (VaR + beta_optimal - xi_optimal * u)/(1 - xi_optimal)\n",
    "\n",
    "print('VaR: ',  VaR)\n",
    "print('ES ', ES)"
   ]
  },
  {
   "cell_type": "markdown",
   "metadata": {},
   "source": [
    "# VaR and ES: Normal Distribution Approximation"
   ]
  },
  {
   "cell_type": "code",
   "execution_count": 21,
   "metadata": {},
   "outputs": [
    {
     "name": "stdout",
     "output_type": "stream",
     "text": [
      "VaR:  467.96727696068376\n",
      "ES  536.1335057106866\n"
     ]
    }
   ],
   "source": [
    "from scipy.stats import norm\n",
    "\n",
    "sigma = losses.std() \n",
    "VaR = 0 + sigma * norm.ppf(alpha)\n",
    "ES = 0 + sigma * norm.pdf(norm.ppf(alpha))/(1-alpha)\n",
    "\n",
    "print('VaR: ',  VaR)\n",
    "print('ES ', ES)"
   ]
  },
  {
   "cell_type": "code",
   "execution_count": 6,
   "metadata": {},
   "outputs": [
    {
     "data": {
      "text/html": [
       "<div>\n",
       "<style scoped>\n",
       "    .dataframe tbody tr th:only-of-type {\n",
       "        vertical-align: middle;\n",
       "    }\n",
       "\n",
       "    .dataframe tbody tr th {\n",
       "        vertical-align: top;\n",
       "    }\n",
       "\n",
       "    .dataframe thead th {\n",
       "        text-align: right;\n",
       "    }\n",
       "</style>\n",
       "<table border=\"1\" class=\"dataframe\">\n",
       "  <thead>\n",
       "    <tr style=\"text-align: right;\">\n",
       "      <th></th>\n",
       "      <th>Date</th>\n",
       "      <th>NASDAQ Close</th>\n",
       "      <th>Simulated Next day</th>\n",
       "      <th>Loss</th>\n",
       "    </tr>\n",
       "  </thead>\n",
       "  <tbody>\n",
       "    <tr>\n",
       "      <th>0</th>\n",
       "      <td>21-Mar-00</td>\n",
       "      <td>4711.68</td>\n",
       "      <td>NaN</td>\n",
       "      <td>NaN</td>\n",
       "    </tr>\n",
       "    <tr>\n",
       "      <th>1</th>\n",
       "      <td>22-Mar-00</td>\n",
       "      <td>4864.75</td>\n",
       "      <td>2335.527687</td>\n",
       "      <td>-734.876865</td>\n",
       "    </tr>\n",
       "    <tr>\n",
       "      <th>2</th>\n",
       "      <td>23-Mar-00</td>\n",
       "      <td>4940.61</td>\n",
       "      <td>2297.313828</td>\n",
       "      <td>-352.738279</td>\n",
       "    </tr>\n",
       "    <tr>\n",
       "      <th>3</th>\n",
       "      <td>24-Mar-00</td>\n",
       "      <td>4963.03</td>\n",
       "      <td>2272.304914</td>\n",
       "      <td>-102.649140</td>\n",
       "    </tr>\n",
       "    <tr>\n",
       "      <th>4</th>\n",
       "      <td>27-Mar-00</td>\n",
       "      <td>4958.56</td>\n",
       "      <td>2260.002672</td>\n",
       "      <td>20.373278</td>\n",
       "    </tr>\n",
       "    <tr>\n",
       "      <th>...</th>\n",
       "      <td>...</td>\n",
       "      <td>...</td>\n",
       "      <td>...</td>\n",
       "      <td>...</td>\n",
       "    </tr>\n",
       "    <tr>\n",
       "      <th>1496</th>\n",
       "      <td>6-Mar-06</td>\n",
       "      <td>2286.03</td>\n",
       "      <td>2245.761878</td>\n",
       "      <td>162.781216</td>\n",
       "    </tr>\n",
       "    <tr>\n",
       "      <th>1497</th>\n",
       "      <td>7-Mar-06</td>\n",
       "      <td>2268.38</td>\n",
       "      <td>2244.575222</td>\n",
       "      <td>174.647778</td>\n",
       "    </tr>\n",
       "    <tr>\n",
       "      <th>1498</th>\n",
       "      <td>8-Mar-06</td>\n",
       "      <td>2267.46</td>\n",
       "      <td>2261.122571</td>\n",
       "      <td>9.174286</td>\n",
       "    </tr>\n",
       "    <tr>\n",
       "      <th>1499</th>\n",
       "      <td>9-Mar-06</td>\n",
       "      <td>2249.72</td>\n",
       "      <td>2244.342405</td>\n",
       "      <td>176.975954</td>\n",
       "    </tr>\n",
       "    <tr>\n",
       "      <th>1500</th>\n",
       "      <td>10-Mar-06</td>\n",
       "      <td>2262.04</td>\n",
       "      <td>2274.427467</td>\n",
       "      <td>-123.874672</td>\n",
       "    </tr>\n",
       "  </tbody>\n",
       "</table>\n",
       "<p>1501 rows × 4 columns</p>\n",
       "</div>"
      ],
      "text/plain": [
       "           Date  NASDAQ Close  Simulated Next day        Loss\n",
       "0     21-Mar-00       4711.68                 NaN         NaN\n",
       "1     22-Mar-00       4864.75         2335.527687 -734.876865\n",
       "2     23-Mar-00       4940.61         2297.313828 -352.738279\n",
       "3     24-Mar-00       4963.03         2272.304914 -102.649140\n",
       "4     27-Mar-00       4958.56         2260.002672   20.373278\n",
       "...         ...           ...                 ...         ...\n",
       "1496   6-Mar-06       2286.03         2245.761878  162.781216\n",
       "1497   7-Mar-06       2268.38         2244.575222  174.647778\n",
       "1498   8-Mar-06       2267.46         2261.122571    9.174286\n",
       "1499   9-Mar-06       2249.72         2244.342405  176.975954\n",
       "1500  10-Mar-06       2262.04         2274.427467 -123.874672\n",
       "\n",
       "[1501 rows x 4 columns]"
      ]
     },
     "execution_count": 6,
     "metadata": {},
     "output_type": "execute_result"
    }
   ],
   "source": [
    "posisions= 10000\n",
    "df_simulation=data.copy()\n",
    "df_simulation['Simulated Data']= last_prices*(df_simulation.iloc[:, 1]/df_simulation.shift(periods=1).iloc[:, 1])\n",
    "\n",
    "\n",
    "df_simulation['Loss'] = 10* (last_prices-df_simulation['Simulated Next day'] )\n",
    "df_simulation"
   ]
  },
  {
   "cell_type": "code",
   "execution_count": null,
   "metadata": {},
   "outputs": [],
   "source": []
  },
  {
   "cell_type": "code",
   "execution_count": 7,
   "metadata": {
    "scrolled": true
   },
   "outputs": [
    {
     "name": "stdout",
     "output_type": "stream",
     "text": [
      "Loss distribution\n"
     ]
    },
    {
     "data": {
      "image/png": "[encoded data removed]",
      "text/plain": [
       "<Figure size 432x288 with 1 Axes>"
      ]
     },
     "metadata": {
      "needs_background": "light"
     },
     "output_type": "display_data"
    }
   ],
   "source": [
    "# histogram of portfolio losses\n",
    "df_simulation.Loss.hist(bins = 25)\n",
    "# plt.savefig('losses.pdf')\n",
    "print('Loss distribution')\n",
    "plt.show()"
   ]
  },
  {
   "cell_type": "markdown",
   "metadata": {},
   "source": [
    "# VaR and ES: Base Version"
   ]
  },
  {
   "cell_type": "code",
   "execution_count": 8,
   "metadata": {},
   "outputs": [
    {
     "name": "stdout",
     "output_type": "stream",
     "text": [
      "Loss distribution: from the worst to the best\n"
     ]
    },
    {
     "data": {
      "text/html": [
       "<div>\n",
       "<style scoped>\n",
       "    .dataframe tbody tr th:only-of-type {\n",
       "        vertical-align: middle;\n",
       "    }\n",
       "\n",
       "    .dataframe tbody tr th {\n",
       "        vertical-align: top;\n",
       "    }\n",
       "\n",
       "    .dataframe thead th {\n",
       "        text-align: right;\n",
       "    }\n",
       "</style>\n",
       "<table border=\"1\" class=\"dataframe\">\n",
       "  <thead>\n",
       "    <tr style=\"text-align: right;\">\n",
       "      <th></th>\n",
       "      <th>Loss</th>\n",
       "    </tr>\n",
       "  </thead>\n",
       "  <tbody>\n",
       "    <tr>\n",
       "      <th>0</th>\n",
       "      <td>2187.056608</td>\n",
       "    </tr>\n",
       "    <tr>\n",
       "      <th>1</th>\n",
       "      <td>1727.138918</td>\n",
       "    </tr>\n",
       "    <tr>\n",
       "      <th>2</th>\n",
       "      <td>1635.834020</td>\n",
       "    </tr>\n",
       "    <tr>\n",
       "      <th>3</th>\n",
       "      <td>1611.439287</td>\n",
       "    </tr>\n",
       "    <tr>\n",
       "      <th>4</th>\n",
       "      <td>1596.573364</td>\n",
       "    </tr>\n",
       "    <tr>\n",
       "      <th>...</th>\n",
       "      <td>...</td>\n",
       "    </tr>\n",
       "    <tr>\n",
       "      <th>1495</th>\n",
       "      <td>-1795.242955</td>\n",
       "    </tr>\n",
       "    <tr>\n",
       "      <th>1496</th>\n",
       "      <td>-1837.417918</td>\n",
       "    </tr>\n",
       "    <tr>\n",
       "      <th>1497</th>\n",
       "      <td>-2018.002490</td>\n",
       "    </tr>\n",
       "    <tr>\n",
       "      <th>1498</th>\n",
       "      <td>-2369.920910</td>\n",
       "    </tr>\n",
       "    <tr>\n",
       "      <th>1499</th>\n",
       "      <td>-3206.035505</td>\n",
       "    </tr>\n",
       "  </tbody>\n",
       "</table>\n",
       "<p>1500 rows × 1 columns</p>\n",
       "</div>"
      ],
      "text/plain": [
       "             Loss\n",
       "0     2187.056608\n",
       "1     1727.138918\n",
       "2     1635.834020\n",
       "3     1611.439287\n",
       "4     1596.573364\n",
       "...           ...\n",
       "1495 -1795.242955\n",
       "1496 -1837.417918\n",
       "1497 -2018.002490\n",
       "1498 -2369.920910\n",
       "1499 -3206.035505\n",
       "\n",
       "[1500 rows x 1 columns]"
      ]
     },
     "execution_count": 8,
     "metadata": {},
     "output_type": "execute_result"
    }
   ],
   "source": [
    "alpha = 0.99\n",
    "df_loss = df_simulation[['Loss']].dropna().sort_values(by = 'Loss', ascending = False,ignore_index= True)\n",
    "print('Loss distribution: from the worst to the best')\n",
    "df_loss"
   ]
  },
  {
   "cell_type": "markdown",
   "metadata": {},
   "source": [
    "### a)"
   ]
  },
  {
   "cell_type": "code",
   "execution_count": 9,
   "metadata": {
    "scrolled": true
   },
   "outputs": [
    {
     "name": "stdout",
     "output_type": "stream",
     "text": [
      "VaR:  1219.0999552080211\n",
      "ES  1485.2810923350737\n"
     ]
    }
   ],
   "source": [
    "losses = df_loss['Loss'].values\n",
    "\n",
    "VaR  = np.percentile(losses, alpha * 100, interpolation = 'higher') \n",
    "ES = np.mean(losses [losses >= VaR])\n",
    "\n",
    "print('VaR: ', VaR)\n",
    "print('ES ', ES)"
   ]
  },
  {
   "cell_type": "markdown",
   "metadata": {},
   "source": [
    "### b) exponential weighting scheme with lambda = 0:995;"
   ]
  },
  {
   "cell_type": "code",
   "execution_count": 17,
   "metadata": {},
   "outputs": [
    {
     "data": {
      "text/html": [
       "<div>\n",
       "<style scoped>\n",
       "    .dataframe tbody tr th:only-of-type {\n",
       "        vertical-align: middle;\n",
       "    }\n",
       "\n",
       "    .dataframe tbody tr th {\n",
       "        vertical-align: top;\n",
       "    }\n",
       "\n",
       "    .dataframe thead th {\n",
       "        text-align: right;\n",
       "    }\n",
       "</style>\n",
       "<table border=\"1\" class=\"dataframe\">\n",
       "  <thead>\n",
       "    <tr style=\"text-align: right;\">\n",
       "      <th></th>\n",
       "      <th>index</th>\n",
       "      <th>Loss</th>\n",
       "    </tr>\n",
       "  </thead>\n",
       "  <tbody>\n",
       "    <tr>\n",
       "      <th>0</th>\n",
       "      <td>19</td>\n",
       "      <td>2187.056608</td>\n",
       "    </tr>\n",
       "    <tr>\n",
       "      <th>1</th>\n",
       "      <td>10</td>\n",
       "      <td>1727.138918</td>\n",
       "    </tr>\n",
       "    <tr>\n",
       "      <th>2</th>\n",
       "      <td>199</td>\n",
       "      <td>1635.834020</td>\n",
       "    </tr>\n",
       "    <tr>\n",
       "      <th>3</th>\n",
       "      <td>192</td>\n",
       "      <td>1611.439287</td>\n",
       "    </tr>\n",
       "    <tr>\n",
       "      <th>4</th>\n",
       "      <td>17</td>\n",
       "      <td>1596.573364</td>\n",
       "    </tr>\n",
       "    <tr>\n",
       "      <th>...</th>\n",
       "      <td>...</td>\n",
       "      <td>...</td>\n",
       "    </tr>\n",
       "    <tr>\n",
       "      <th>1495</th>\n",
       "      <td>49</td>\n",
       "      <td>-1795.242955</td>\n",
       "    </tr>\n",
       "    <tr>\n",
       "      <th>1496</th>\n",
       "      <td>272</td>\n",
       "      <td>-1837.417918</td>\n",
       "    </tr>\n",
       "    <tr>\n",
       "      <th>1497</th>\n",
       "      <td>264</td>\n",
       "      <td>-2018.002490</td>\n",
       "    </tr>\n",
       "    <tr>\n",
       "      <th>1498</th>\n",
       "      <td>181</td>\n",
       "      <td>-2369.920910</td>\n",
       "    </tr>\n",
       "    <tr>\n",
       "      <th>1499</th>\n",
       "      <td>200</td>\n",
       "      <td>-3206.035505</td>\n",
       "    </tr>\n",
       "  </tbody>\n",
       "</table>\n",
       "<p>1500 rows × 2 columns</p>\n",
       "</div>"
      ],
      "text/plain": [
       "      index         Loss\n",
       "0        19  2187.056608\n",
       "1        10  1727.138918\n",
       "2       199  1635.834020\n",
       "3       192  1611.439287\n",
       "4        17  1596.573364\n",
       "...     ...          ...\n",
       "1495     49 -1795.242955\n",
       "1496    272 -1837.417918\n",
       "1497    264 -2018.002490\n",
       "1498    181 -2369.920910\n",
       "1499    200 -3206.035505\n",
       "\n",
       "[1500 rows x 2 columns]"
      ]
     },
     "execution_count": 17,
     "metadata": {},
     "output_type": "execute_result"
    }
   ],
   "source": [
    "df_loss = df_simulation[['Loss']].dropna().sort_values(by = 'Loss', ascending = False)\n",
    "df_loss = df_loss.reset_index()\n",
    "df_loss['index'] += 1\n",
    "df_loss"
   ]
  },
  {
   "cell_type": "code",
   "execution_count": 26,
   "metadata": {},
   "outputs": [
    {
     "data": {
      "text/html": [
       "<div>\n",
       "<style scoped>\n",
       "    .dataframe tbody tr th:only-of-type {\n",
       "        vertical-align: middle;\n",
       "    }\n",
       "\n",
       "    .dataframe tbody tr th {\n",
       "        vertical-align: top;\n",
       "    }\n",
       "\n",
       "    .dataframe thead th {\n",
       "        text-align: right;\n",
       "    }\n",
       "</style>\n",
       "<table border=\"1\" class=\"dataframe\">\n",
       "  <thead>\n",
       "    <tr style=\"text-align: right;\">\n",
       "      <th></th>\n",
       "      <th>index</th>\n",
       "      <th>Loss</th>\n",
       "      <th>Weight</th>\n",
       "      <th>Cum Weight</th>\n",
       "    </tr>\n",
       "  </thead>\n",
       "  <tbody>\n",
       "    <tr>\n",
       "      <th>0</th>\n",
       "      <td>19</td>\n",
       "      <td>2187.056608</td>\n",
       "      <td>0.000003</td>\n",
       "      <td>0.000003</td>\n",
       "    </tr>\n",
       "    <tr>\n",
       "      <th>1</th>\n",
       "      <td>10</td>\n",
       "      <td>1727.138918</td>\n",
       "      <td>0.000003</td>\n",
       "      <td>0.000006</td>\n",
       "    </tr>\n",
       "    <tr>\n",
       "      <th>2</th>\n",
       "      <td>199</td>\n",
       "      <td>1635.834020</td>\n",
       "      <td>0.000007</td>\n",
       "      <td>0.000013</td>\n",
       "    </tr>\n",
       "    <tr>\n",
       "      <th>3</th>\n",
       "      <td>192</td>\n",
       "      <td>1611.439287</td>\n",
       "      <td>0.000007</td>\n",
       "      <td>0.000020</td>\n",
       "    </tr>\n",
       "    <tr>\n",
       "      <th>4</th>\n",
       "      <td>17</td>\n",
       "      <td>1596.573364</td>\n",
       "      <td>0.000003</td>\n",
       "      <td>0.000023</td>\n",
       "    </tr>\n",
       "    <tr>\n",
       "      <th>...</th>\n",
       "      <td>...</td>\n",
       "      <td>...</td>\n",
       "      <td>...</td>\n",
       "      <td>...</td>\n",
       "    </tr>\n",
       "    <tr>\n",
       "      <th>1495</th>\n",
       "      <td>49</td>\n",
       "      <td>-1795.242955</td>\n",
       "      <td>0.000003</td>\n",
       "      <td>1.004990</td>\n",
       "    </tr>\n",
       "    <tr>\n",
       "      <th>1496</th>\n",
       "      <td>272</td>\n",
       "      <td>-1837.417918</td>\n",
       "      <td>0.000011</td>\n",
       "      <td>1.005001</td>\n",
       "    </tr>\n",
       "    <tr>\n",
       "      <th>1497</th>\n",
       "      <td>264</td>\n",
       "      <td>-2018.002490</td>\n",
       "      <td>0.000010</td>\n",
       "      <td>1.005011</td>\n",
       "    </tr>\n",
       "    <tr>\n",
       "      <th>1498</th>\n",
       "      <td>181</td>\n",
       "      <td>-2369.920910</td>\n",
       "      <td>0.000007</td>\n",
       "      <td>1.005018</td>\n",
       "    </tr>\n",
       "    <tr>\n",
       "      <th>1499</th>\n",
       "      <td>200</td>\n",
       "      <td>-3206.035505</td>\n",
       "      <td>0.000007</td>\n",
       "      <td>1.005025</td>\n",
       "    </tr>\n",
       "  </tbody>\n",
       "</table>\n",
       "<p>1500 rows × 4 columns</p>\n",
       "</div>"
      ],
      "text/plain": [
       "      index         Loss    Weight  Cum Weight\n",
       "0        19  2187.056608  0.000003    0.000003\n",
       "1        10  1727.138918  0.000003    0.000006\n",
       "2       199  1635.834020  0.000007    0.000013\n",
       "3       192  1611.439287  0.000007    0.000020\n",
       "4        17  1596.573364  0.000003    0.000023\n",
       "...     ...          ...       ...         ...\n",
       "1495     49 -1795.242955  0.000003    1.004990\n",
       "1496    272 -1837.417918  0.000011    1.005001\n",
       "1497    264 -2018.002490  0.000010    1.005011\n",
       "1498    181 -2369.920910  0.000007    1.005018\n",
       "1499    200 -3206.035505  0.000007    1.005025\n",
       "\n",
       "[1500 rows x 4 columns]"
      ]
     },
     "execution_count": 26,
     "metadata": {},
     "output_type": "execute_result"
    }
   ],
   "source": [
    "Lambda = 0.995\n",
    "n = len(df_loss)\n",
    "df_loss['Weight'] = np.power(Lambda, n - df_loss['index']) * (1- Lambda) / (1- np.power(Lambda, n))\n",
    "df_loss['Cum Weight'] = np.cumsum(df_loss.Weight)\n",
    "df_loss"
   ]
  },
  {
   "cell_type": "code",
   "execution_count": 28,
   "metadata": {},
   "outputs": [
    {
     "name": "stdout",
     "output_type": "stream",
     "text": [
      "1500\n"
     ]
    },
    {
     "data": {
      "text/plain": [
       "1.005025125628141"
      ]
     },
     "execution_count": 28,
     "metadata": {},
     "output_type": "execute_result"
    }
   ],
   "source": [
    "print(n)\n",
    "sum(df_loss['Weight'])"
   ]
  },
  {
   "cell_type": "code",
   "execution_count": 24,
   "metadata": {},
   "outputs": [
    {
     "data": {
      "text/plain": [
       "array([2.97173637e-06, 5.81238819e-06, 1.31381998e-05, ...,\n",
       "       9.99983228e-01, 9.99989922e-01, 9.99997285e-01])"
      ]
     },
     "execution_count": 24,
     "metadata": {},
     "output_type": "execute_result"
    }
   ],
   "source": [
    "weights = df_loss['Weight'].values\n",
    "cum_weights = df_loss['Cum Weight'].values\n",
    "losses_sorted = df_loss.Loss.values\n",
    "\n",
    "cum_weights"
   ]
  },
  {
   "cell_type": "code",
   "execution_count": 30,
   "metadata": {},
   "outputs": [
    {
     "name": "stdout",
     "output_type": "stream",
     "text": [
      "VaR:  518.9153245025773\n",
      "ES  614.1414051250174\n"
     ]
    }
   ],
   "source": [
    "alpha=0.99\n",
    "weights = df_loss['Weight'].values\n",
    "cum_weights = df_loss['Cum Weight'].values\n",
    "losses_sorted = df_loss.Loss.values\n",
    "\n",
    "Critial_index = np.where(cum_weights >= 1 - alpha, np.arange(n) , np.inf).argmin()\n",
    "VaR  = df_loss.Loss.iloc[Critial_index]\n",
    "\n",
    "w_for_ES = weights[0:Critial_index].tolist() + [1 - alpha - cum_weights[Critial_index-1]]\n",
    "ES = np.sum( losses_sorted[0: Critial_index + 1] * w_for_ES )/ (1-alpha)\n",
    "\n",
    "# print('Weight for ES: ', w_for_ES)\n",
    "\n",
    "print('VaR: ', VaR)\n",
    "print('ES ', ES)"
   ]
  },
  {
   "cell_type": "markdown",
   "metadata": {},
   "source": [
    "### c) EVT with u = 300 (and equal weightings);"
   ]
  },
  {
   "cell_type": "code",
   "execution_count": 37,
   "metadata": {},
   "outputs": [
    {
     "name": "stdout",
     "output_type": "stream",
     "text": [
      "Initial guess of the (beta, xi) configuration:  (40, 0.3)\n",
      "Log likelihood for the initial guess:  -2645.1516781425153\n"
     ]
    }
   ],
   "source": [
    "u = 300  #In general the rule of thumb for u is the 95 percentile of historical loss data\n",
    "tail_losses = losses_sorted[losses_sorted > u]\n",
    "n_u = len(tail_losses )\n",
    "\n",
    "# Definition the og likelihood function \n",
    "def EVT_likelihood (paras):\n",
    "    beta = paras[0]\n",
    "    xi = paras[1]\n",
    "    return  (-1/xi -1) * np.sum( np.log(1 + xi * (tail_losses - u)/beta ) ) - n_u * np.log(beta) \n",
    "\n",
    "\n",
    "x0 = (40, 0.3) #Initial guess of beta and xi\n",
    "print('Initial guess of the (beta, xi) configuration: ', x0)\n",
    "print('Log likelihood for the initial guess: ', EVT_likelihood ((30, 0.4)))"
   ]
  },
  {
   "cell_type": "code",
   "execution_count": 33,
   "metadata": {},
   "outputs": [],
   "source": [
    "import scipy.optimize as opt"
   ]
  },
  {
   "cell_type": "code",
   "execution_count": 38,
   "metadata": {},
   "outputs": [
    {
     "name": "stdout",
     "output_type": "stream",
     "text": [
      "`xtol` termination condition is satisfied.\n",
      "Number of iterations: 51, function evaluations: 129, CG iterations: 71, optimality: 3.05e-05, constraint violation: 0.00e+00, execution time: 0.22 s.\n",
      "Optimal (beta, xi) configuration:  313.3208431240222 -0.052111401559340596\n",
      "Log likelihood for the optimal solution :  -2169.217693211998\n",
      "VaR:  1189.6152755154105\n",
      "ES  1443.3543224192358\n"
     ]
    }
   ],
   "source": [
    "res = opt.minimize( lambda x: - EVT_likelihood (x)  , x0, method='trust-constr',  options={'disp': True})\n",
    "\n",
    "\n",
    "beta_optimal, xi_optimal =  res.x\n",
    "\n",
    "print('Optimal (beta, xi) configuration: ', beta_optimal, xi_optimal )\n",
    "print('Log likelihood for the optimal solution : ', EVT_likelihood ((beta_optimal, xi_optimal)))\n",
    "\n",
    "VaR = u + beta_optimal/xi_optimal * (np.power(n/n_u * (1-alpha),-xi_optimal) - 1)\n",
    "ES  = (VaR + beta_optimal - xi_optimal * u)/(1 - xi_optimal)\n",
    "\n",
    "print('VaR: ',  VaR)\n",
    "print('ES ', ES)"
   ]
  },
  {
   "cell_type": "code",
   "execution_count": null,
   "metadata": {},
   "outputs": [],
   "source": [
    "# `xtol` termination condition is satisfied.\n",
    "# Number of iterations: 51, function evaluations: 129, CG iterations: 71, optimality: 3.05e-05, constraint violation: 0.00e+00, execution time: 0.21 s.\n",
    "# Optimal (beta, xi) configuration:  313.3208431240222 -0.052111401559340596\n",
    "# Log likelihood for the optimal solution :  -2169.217693211998\n",
    "# VaR:  1189.6152755154105\n",
    "# ES  1443.3543224192358"
   ]
  },
  {
   "cell_type": "markdown",
   "metadata": {},
   "source": [
    "### d)  normally distributed with mean zero"
   ]
  },
  {
   "cell_type": "code",
   "execution_count": 41,
   "metadata": {},
   "outputs": [
    {
     "data": {
      "text/plain": [
       "count    1500.000000\n",
       "mean        6.504418\n",
       "std       455.182882\n",
       "min     -3206.035505\n",
       "25%      -215.217859\n",
       "50%        -7.633875\n",
       "75%       245.522352\n",
       "max      2187.056608\n",
       "Name: Loss, dtype: float64"
      ]
     },
     "execution_count": 41,
     "metadata": {},
     "output_type": "execute_result"
    }
   ],
   "source": [
    "df_loss['Loss'].describe()"
   ]
  },
  {
   "cell_type": "code",
   "execution_count": 42,
   "metadata": {},
   "outputs": [],
   "source": [
    "from scipy.stats import norm"
   ]
  },
  {
   "cell_type": "code",
   "execution_count": 43,
   "metadata": {},
   "outputs": [
    {
     "data": {
      "text/plain": [
       "1058.9137298404828"
      ]
     },
     "execution_count": 43,
     "metadata": {},
     "output_type": "execute_result"
    }
   ],
   "source": [
    "norm.ppf(0.99, loc=0, scale=455.182882)"
   ]
  },
  {
   "cell_type": "code",
   "execution_count": 45,
   "metadata": {},
   "outputs": [
    {
     "data": {
      "text/plain": [
       "1213.1598899643873"
      ]
     },
     "execution_count": 45,
     "metadata": {},
     "output_type": "execute_result"
    }
   ],
   "source": [
    "pm= 0\n",
    "ps= 455.182882\n",
    "# Compute the 95% VaR using the .ppf()\n",
    "VaR_99 = norm.ppf(0.99, loc = pm, scale = ps)\n",
    "# Compute the expected tail loss and the CVaR in the worst 5% of cases\n",
    "tail_loss = norm.expect(lambda x: x, loc = pm, scale = ps, lb = VaR_99)\n",
    "CVaR_99 = tail_loss/ (1 - 0.99)\n",
    "CVaR_99"
   ]
  },
  {
   "cell_type": "code",
   "execution_count": 46,
   "metadata": {
    "scrolled": true
   },
   "outputs": [],
   "source": [
    "# df_simulation=data.copy()\n",
    "# # df_simulation['Simulated Next day']= last_prices*(df_simulation.shift(periods=1).iloc[:, 1]/df_simulation.iloc[:, 1])\n",
    "# df_simulation = df_simulation.shift(periods=1)\n",
    "# df_simulation"
   ]
  },
  {
   "cell_type": "code",
   "execution_count": 12,
   "metadata": {},
   "outputs": [
    {
     "data": {
      "text/plain": [
       "6"
      ]
     },
     "execution_count": 12,
     "metadata": {},
     "output_type": "execute_result"
    }
   ],
   "source": [
    "# def fac(n,k):\n",
    "#     fact = 1\n",
    "#     for i in range(1,n+1): \n",
    "#         fact = fact * i\n",
    "#     return fact\n",
    "# fac(3)"
   ]
  },
  {
   "cell_type": "code",
   "execution_count": 22,
   "metadata": {},
   "outputs": [
    {
     "name": "stdout",
     "output_type": "stream",
     "text": [
      "8.170846838407909e-13\n"
     ]
    }
   ],
   "source": [
    "# # from decimal import Decimal\n",
    "\n",
    "# pr=0\n",
    "# n=160\n",
    "# k = 17 \n",
    "# p= 0.01\n",
    "# for i in range(17,151): \n",
    "#     a = (p**k)*((1-p)**(n-k))*math.factorial(n)/(math.factorial(k)*math.factorial(n-k))\n",
    "# #     a = (p**k)*((1-p)**(n-k))*fac(n)/(fac(k)*fac(n-k))\n",
    "\n",
    "# #     a = (p**k)*((1-p)**(n-k))*Decimal(math.factorial(n))/(Decimal(math.factorial(k))*Decimal(math.factorial(n-k))\n",
    "# pr= pr+a\n",
    "# print(pr)\n",
    "                                                   "
   ]
  },
  {
   "cell_type": "code",
   "execution_count": null,
   "metadata": {},
   "outputs": [],
   "source": []
  }
 ],
 "metadata": {
  "kernelspec": {
   "display_name": "Python 3",
   "language": "python",
   "name": "python3"
  },
  "language_info": {
   "codemirror_mode": {
    "name": "ipython",
    "version": 3
   },
   "file_extension": ".py",
   "mimetype": "text/x-python",
   "name": "python",
   "nbconvert_exporter": "python",
   "pygments_lexer": "ipython3",
   "version": "3.6.13"
  }
 },
 "nbformat": 4,
 "nbformat_minor": 4
}
