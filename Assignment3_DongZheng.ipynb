{
  "cells": [
    {
      "cell_type": "code",
      "execution_count": null,
      "metadata": {
        "id": "QNDxl_XGCg3l"
      },
      "outputs": [],
      "source": [
        "import pandas as pd\n",
        "import numpy as np"
      ]
    },
    {
      "cell_type": "code",
      "execution_count": null,
      "metadata": {
        "scrolled": true,
        "id": "tGDKJ9r0Cg3p",
        "outputId": "7fabb1d7-7cc9-4754-e95f-303db25ecde0"
      },
      "outputs": [
        {
          "data": {
            "text/html": [
              "<div>\n",
              "<style scoped>\n",
              "    .dataframe tbody tr th:only-of-type {\n",
              "        vertical-align: middle;\n",
              "    }\n",
              "\n",
              "    .dataframe tbody tr th {\n",
              "        vertical-align: top;\n",
              "    }\n",
              "\n",
              "    .dataframe thead th {\n",
              "        text-align: right;\n",
              "    }\n",
              "</style>\n",
              "<table border=\"1\" class=\"dataframe\">\n",
              "  <thead>\n",
              "    <tr style=\"text-align: right;\">\n",
              "      <th></th>\n",
              "      <th>Month</th>\n",
              "      <th>SB Non-US Bonds</th>\n",
              "      <th>MSCI EAFE</th>\n",
              "      <th>CRSP VW US common stocks</th>\n",
              "      <th>US Corp Bonds</th>\n",
              "      <th>Money Market</th>\n",
              "    </tr>\n",
              "  </thead>\n",
              "  <tbody>\n",
              "    <tr>\n",
              "      <th>0</th>\n",
              "      <td>Jan 1985</td>\n",
              "      <td>-0.87%</td>\n",
              "      <td>2.28%</td>\n",
              "      <td>8.58%</td>\n",
              "      <td>2.86%</td>\n",
              "      <td>0.61%</td>\n",
              "    </tr>\n",
              "    <tr>\n",
              "      <th>1</th>\n",
              "      <td>Feb 1985</td>\n",
              "      <td>-4.52%</td>\n",
              "      <td>-0.56%</td>\n",
              "      <td>1.70%</td>\n",
              "      <td>-2.57%</td>\n",
              "      <td>0.62%</td>\n",
              "    </tr>\n",
              "    <tr>\n",
              "      <th>2</th>\n",
              "      <td>Mar 1985</td>\n",
              "      <td>8.10%</td>\n",
              "      <td>7.79%</td>\n",
              "      <td>-0.19%</td>\n",
              "      <td>1.92%</td>\n",
              "      <td>0.62%</td>\n",
              "    </tr>\n",
              "    <tr>\n",
              "      <th>3</th>\n",
              "      <td>Apr 1985</td>\n",
              "      <td>0.67%</td>\n",
              "      <td>-0.31%</td>\n",
              "      <td>-0.22%</td>\n",
              "      <td>2.21%</td>\n",
              "      <td>0.65%</td>\n",
              "    </tr>\n",
              "    <tr>\n",
              "      <th>4</th>\n",
              "      <td>May 1985</td>\n",
              "      <td>2.82%</td>\n",
              "      <td>4.28%</td>\n",
              "      <td>5.59%</td>\n",
              "      <td>6.17%</td>\n",
              "      <td>0.59%</td>\n",
              "    </tr>\n",
              "    <tr>\n",
              "      <th>...</th>\n",
              "      <td>...</td>\n",
              "      <td>...</td>\n",
              "      <td>...</td>\n",
              "      <td>...</td>\n",
              "      <td>...</td>\n",
              "      <td>...</td>\n",
              "    </tr>\n",
              "    <tr>\n",
              "      <th>91</th>\n",
              "      <td>Aug 1992</td>\n",
              "      <td>4.42%</td>\n",
              "      <td>6.31%</td>\n",
              "      <td>-2.07%</td>\n",
              "      <td>0.78%</td>\n",
              "      <td>0.25%</td>\n",
              "    </tr>\n",
              "    <tr>\n",
              "      <th>92</th>\n",
              "      <td>Sep 1992</td>\n",
              "      <td>0.64%</td>\n",
              "      <td>-1.94%</td>\n",
              "      <td>1.24%</td>\n",
              "      <td>1.20%</td>\n",
              "      <td>0.25%</td>\n",
              "    </tr>\n",
              "    <tr>\n",
              "      <th>93</th>\n",
              "      <td>Oct 1992</td>\n",
              "      <td>-3.61%</td>\n",
              "      <td>-5.22%</td>\n",
              "      <td>1.09%</td>\n",
              "      <td>-1.80%</td>\n",
              "      <td>0.22%</td>\n",
              "    </tr>\n",
              "    <tr>\n",
              "      <th>94</th>\n",
              "      <td>Nov 1992</td>\n",
              "      <td>-2.57%</td>\n",
              "      <td>0.97%</td>\n",
              "      <td>4.02%</td>\n",
              "      <td>0.16%</td>\n",
              "      <td>0.23%</td>\n",
              "    </tr>\n",
              "    <tr>\n",
              "      <th>95</th>\n",
              "      <td>Dec 1992</td>\n",
              "      <td>-0.21%</td>\n",
              "      <td>0.55%</td>\n",
              "      <td>1.75%</td>\n",
              "      <td>1.83%</td>\n",
              "      <td>0.22%</td>\n",
              "    </tr>\n",
              "  </tbody>\n",
              "</table>\n",
              "<p>96 rows × 6 columns</p>\n",
              "</div>"
            ],
            "text/plain": [
              "       Month SB Non-US Bonds MSCI EAFE CRSP VW US common stocks US Corp Bonds  \\\n",
              "0   Jan 1985          -0.87%     2.28%                    8.58%         2.86%   \n",
              "1   Feb 1985          -4.52%    -0.56%                    1.70%        -2.57%   \n",
              "2   Mar 1985           8.10%     7.79%                   -0.19%         1.92%   \n",
              "3   Apr 1985           0.67%    -0.31%                   -0.22%         2.21%   \n",
              "4   May 1985           2.82%     4.28%                    5.59%         6.17%   \n",
              "..       ...             ...       ...                      ...           ...   \n",
              "91  Aug 1992           4.42%     6.31%                   -2.07%         0.78%   \n",
              "92  Sep 1992           0.64%    -1.94%                    1.24%         1.20%   \n",
              "93  Oct 1992          -3.61%    -5.22%                    1.09%        -1.80%   \n",
              "94  Nov 1992          -2.57%     0.97%                    4.02%         0.16%   \n",
              "95  Dec 1992          -0.21%     0.55%                    1.75%         1.83%   \n",
              "\n",
              "   Money Market  \n",
              "0         0.61%  \n",
              "1         0.62%  \n",
              "2         0.62%  \n",
              "3         0.65%  \n",
              "4         0.59%  \n",
              "..          ...  \n",
              "91        0.25%  \n",
              "92        0.25%  \n",
              "93        0.22%  \n",
              "94        0.23%  \n",
              "95        0.22%  \n",
              "\n",
              "[96 rows x 6 columns]"
            ]
          },
          "execution_count": 32,
          "metadata": {},
          "output_type": "execute_result"
        }
      ],
      "source": [
        "df= pd.read_csv('D:/0.0 Jupyter Notebook/ps3_data.csv')\n",
        "df"
      ]
    },
    {
      "cell_type": "code",
      "execution_count": null,
      "metadata": {
        "id": "u36UynQsCg3r",
        "outputId": "c46ae13d-52cc-4fb8-901f-476d1a309411"
      },
      "outputs": [
        {
          "data": {
            "text/plain": [
              "str"
            ]
          },
          "execution_count": 5,
          "metadata": {},
          "output_type": "execute_result"
        }
      ],
      "source": [
        "type(df.iloc[1,1])"
      ]
    },
    {
      "cell_type": "code",
      "execution_count": null,
      "metadata": {
        "id": "9H_NwPJbCg3r",
        "outputId": "191880d4-0346-41c2-abea-3932a4b8733d"
      },
      "outputs": [
        {
          "data": {
            "text/html": [
              "<div>\n",
              "<style scoped>\n",
              "    .dataframe tbody tr th:only-of-type {\n",
              "        vertical-align: middle;\n",
              "    }\n",
              "\n",
              "    .dataframe tbody tr th {\n",
              "        vertical-align: top;\n",
              "    }\n",
              "\n",
              "    .dataframe thead th {\n",
              "        text-align: right;\n",
              "    }\n",
              "</style>\n",
              "<table border=\"1\" class=\"dataframe\">\n",
              "  <thead>\n",
              "    <tr style=\"text-align: right;\">\n",
              "      <th></th>\n",
              "      <th>Month</th>\n",
              "      <th>SB Non-US Bonds</th>\n",
              "      <th>MSCI EAFE</th>\n",
              "      <th>CRSP VW US common stocks</th>\n",
              "      <th>US Corp Bonds</th>\n",
              "      <th>Money Market</th>\n",
              "    </tr>\n",
              "  </thead>\n",
              "  <tbody>\n",
              "    <tr>\n",
              "      <th>0</th>\n",
              "      <td>Jan 1985</td>\n",
              "      <td>-0.87</td>\n",
              "      <td>2.28</td>\n",
              "      <td>8.58</td>\n",
              "      <td>2.86</td>\n",
              "      <td>0.61</td>\n",
              "    </tr>\n",
              "    <tr>\n",
              "      <th>1</th>\n",
              "      <td>Feb 1985</td>\n",
              "      <td>-4.52</td>\n",
              "      <td>-0.56</td>\n",
              "      <td>1.70</td>\n",
              "      <td>-2.57</td>\n",
              "      <td>0.62</td>\n",
              "    </tr>\n",
              "    <tr>\n",
              "      <th>2</th>\n",
              "      <td>Mar 1985</td>\n",
              "      <td>8.10</td>\n",
              "      <td>7.79</td>\n",
              "      <td>-0.19</td>\n",
              "      <td>1.92</td>\n",
              "      <td>0.62</td>\n",
              "    </tr>\n",
              "    <tr>\n",
              "      <th>3</th>\n",
              "      <td>Apr 1985</td>\n",
              "      <td>0.67</td>\n",
              "      <td>-0.31</td>\n",
              "      <td>-0.22</td>\n",
              "      <td>2.21</td>\n",
              "      <td>0.65</td>\n",
              "    </tr>\n",
              "    <tr>\n",
              "      <th>4</th>\n",
              "      <td>May 1985</td>\n",
              "      <td>2.82</td>\n",
              "      <td>4.28</td>\n",
              "      <td>5.59</td>\n",
              "      <td>6.17</td>\n",
              "      <td>0.59</td>\n",
              "    </tr>\n",
              "    <tr>\n",
              "      <th>...</th>\n",
              "      <td>...</td>\n",
              "      <td>...</td>\n",
              "      <td>...</td>\n",
              "      <td>...</td>\n",
              "      <td>...</td>\n",
              "      <td>...</td>\n",
              "    </tr>\n",
              "    <tr>\n",
              "      <th>91</th>\n",
              "      <td>Aug 1992</td>\n",
              "      <td>4.42</td>\n",
              "      <td>6.31</td>\n",
              "      <td>-2.07</td>\n",
              "      <td>0.78</td>\n",
              "      <td>0.25</td>\n",
              "    </tr>\n",
              "    <tr>\n",
              "      <th>92</th>\n",
              "      <td>Sep 1992</td>\n",
              "      <td>0.64</td>\n",
              "      <td>-1.94</td>\n",
              "      <td>1.24</td>\n",
              "      <td>1.20</td>\n",
              "      <td>0.25</td>\n",
              "    </tr>\n",
              "    <tr>\n",
              "      <th>93</th>\n",
              "      <td>Oct 1992</td>\n",
              "      <td>-3.61</td>\n",
              "      <td>-5.22</td>\n",
              "      <td>1.09</td>\n",
              "      <td>-1.80</td>\n",
              "      <td>0.22</td>\n",
              "    </tr>\n",
              "    <tr>\n",
              "      <th>94</th>\n",
              "      <td>Nov 1992</td>\n",
              "      <td>-2.57</td>\n",
              "      <td>0.97</td>\n",
              "      <td>4.02</td>\n",
              "      <td>0.16</td>\n",
              "      <td>0.23</td>\n",
              "    </tr>\n",
              "    <tr>\n",
              "      <th>95</th>\n",
              "      <td>Dec 1992</td>\n",
              "      <td>-0.21</td>\n",
              "      <td>0.55</td>\n",
              "      <td>1.75</td>\n",
              "      <td>1.83</td>\n",
              "      <td>0.22</td>\n",
              "    </tr>\n",
              "  </tbody>\n",
              "</table>\n",
              "<p>96 rows × 6 columns</p>\n",
              "</div>"
            ],
            "text/plain": [
              "       Month  SB Non-US Bonds  MSCI EAFE  CRSP VW US common stocks  \\\n",
              "0   Jan 1985            -0.87       2.28                      8.58   \n",
              "1   Feb 1985            -4.52      -0.56                      1.70   \n",
              "2   Mar 1985             8.10       7.79                     -0.19   \n",
              "3   Apr 1985             0.67      -0.31                     -0.22   \n",
              "4   May 1985             2.82       4.28                      5.59   \n",
              "..       ...              ...        ...                       ...   \n",
              "91  Aug 1992             4.42       6.31                     -2.07   \n",
              "92  Sep 1992             0.64      -1.94                      1.24   \n",
              "93  Oct 1992            -3.61      -5.22                      1.09   \n",
              "94  Nov 1992            -2.57       0.97                      4.02   \n",
              "95  Dec 1992            -0.21       0.55                      1.75   \n",
              "\n",
              "    US Corp Bonds  Money Market  \n",
              "0            2.86          0.61  \n",
              "1           -2.57          0.62  \n",
              "2            1.92          0.62  \n",
              "3            2.21          0.65  \n",
              "4            6.17          0.59  \n",
              "..            ...           ...  \n",
              "91           0.78          0.25  \n",
              "92           1.20          0.25  \n",
              "93          -1.80          0.22  \n",
              "94           0.16          0.23  \n",
              "95           1.83          0.22  \n",
              "\n",
              "[96 rows x 6 columns]"
            ]
          },
          "execution_count": 33,
          "metadata": {},
          "output_type": "execute_result"
        }
      ],
      "source": [
        "for i in range(1,6):\n",
        "    df.iloc[:,i]= df.iloc[:,i].str.rstrip('%').astype('float')\n",
        "df"
      ]
    },
    {
      "cell_type": "code",
      "execution_count": null,
      "metadata": {
        "id": "sA6joH3lCg3s",
        "outputId": "85cd9316-7d64-401a-bfcb-4a15cafcf589"
      },
      "outputs": [
        {
          "data": {
            "text/html": [
              "<div>\n",
              "<style scoped>\n",
              "    .dataframe tbody tr th:only-of-type {\n",
              "        vertical-align: middle;\n",
              "    }\n",
              "\n",
              "    .dataframe tbody tr th {\n",
              "        vertical-align: top;\n",
              "    }\n",
              "\n",
              "    .dataframe thead th {\n",
              "        text-align: right;\n",
              "    }\n",
              "</style>\n",
              "<table border=\"1\" class=\"dataframe\">\n",
              "  <thead>\n",
              "    <tr style=\"text-align: right;\">\n",
              "      <th></th>\n",
              "      <th>Month</th>\n",
              "      <th>SB Non-US Bonds</th>\n",
              "      <th>MSCI EAFE</th>\n",
              "      <th>CRSP VW US common stocks</th>\n",
              "      <th>US Corp Bonds</th>\n",
              "      <th>Money Market</th>\n",
              "    </tr>\n",
              "  </thead>\n",
              "  <tbody>\n",
              "    <tr>\n",
              "      <th>0</th>\n",
              "      <td>Jan 1985</td>\n",
              "      <td>-1.48</td>\n",
              "      <td>1.67</td>\n",
              "      <td>7.97</td>\n",
              "      <td>2.25</td>\n",
              "      <td>0.61</td>\n",
              "    </tr>\n",
              "    <tr>\n",
              "      <th>1</th>\n",
              "      <td>Feb 1985</td>\n",
              "      <td>-5.14</td>\n",
              "      <td>-1.18</td>\n",
              "      <td>1.08</td>\n",
              "      <td>-3.19</td>\n",
              "      <td>0.62</td>\n",
              "    </tr>\n",
              "    <tr>\n",
              "      <th>2</th>\n",
              "      <td>Mar 1985</td>\n",
              "      <td>7.48</td>\n",
              "      <td>7.17</td>\n",
              "      <td>-0.81</td>\n",
              "      <td>1.30</td>\n",
              "      <td>0.62</td>\n",
              "    </tr>\n",
              "    <tr>\n",
              "      <th>3</th>\n",
              "      <td>Apr 1985</td>\n",
              "      <td>0.02</td>\n",
              "      <td>-0.96</td>\n",
              "      <td>-0.87</td>\n",
              "      <td>1.56</td>\n",
              "      <td>0.65</td>\n",
              "    </tr>\n",
              "    <tr>\n",
              "      <th>4</th>\n",
              "      <td>May 1985</td>\n",
              "      <td>2.23</td>\n",
              "      <td>3.69</td>\n",
              "      <td>5.00</td>\n",
              "      <td>5.58</td>\n",
              "      <td>0.59</td>\n",
              "    </tr>\n",
              "    <tr>\n",
              "      <th>...</th>\n",
              "      <td>...</td>\n",
              "      <td>...</td>\n",
              "      <td>...</td>\n",
              "      <td>...</td>\n",
              "      <td>...</td>\n",
              "      <td>...</td>\n",
              "    </tr>\n",
              "    <tr>\n",
              "      <th>91</th>\n",
              "      <td>Aug 1992</td>\n",
              "      <td>4.17</td>\n",
              "      <td>6.06</td>\n",
              "      <td>-2.32</td>\n",
              "      <td>0.53</td>\n",
              "      <td>0.25</td>\n",
              "    </tr>\n",
              "    <tr>\n",
              "      <th>92</th>\n",
              "      <td>Sep 1992</td>\n",
              "      <td>0.39</td>\n",
              "      <td>-2.19</td>\n",
              "      <td>0.99</td>\n",
              "      <td>0.95</td>\n",
              "      <td>0.25</td>\n",
              "    </tr>\n",
              "    <tr>\n",
              "      <th>93</th>\n",
              "      <td>Oct 1992</td>\n",
              "      <td>-3.83</td>\n",
              "      <td>-5.44</td>\n",
              "      <td>0.87</td>\n",
              "      <td>-2.02</td>\n",
              "      <td>0.22</td>\n",
              "    </tr>\n",
              "    <tr>\n",
              "      <th>94</th>\n",
              "      <td>Nov 1992</td>\n",
              "      <td>-2.80</td>\n",
              "      <td>0.74</td>\n",
              "      <td>3.79</td>\n",
              "      <td>-0.07</td>\n",
              "      <td>0.23</td>\n",
              "    </tr>\n",
              "    <tr>\n",
              "      <th>95</th>\n",
              "      <td>Dec 1992</td>\n",
              "      <td>-0.43</td>\n",
              "      <td>0.33</td>\n",
              "      <td>1.53</td>\n",
              "      <td>1.61</td>\n",
              "      <td>0.22</td>\n",
              "    </tr>\n",
              "  </tbody>\n",
              "</table>\n",
              "<p>96 rows × 6 columns</p>\n",
              "</div>"
            ],
            "text/plain": [
              "       Month  SB Non-US Bonds  MSCI EAFE  CRSP VW US common stocks  \\\n",
              "0   Jan 1985            -1.48       1.67                      7.97   \n",
              "1   Feb 1985            -5.14      -1.18                      1.08   \n",
              "2   Mar 1985             7.48       7.17                     -0.81   \n",
              "3   Apr 1985             0.02      -0.96                     -0.87   \n",
              "4   May 1985             2.23       3.69                      5.00   \n",
              "..       ...              ...        ...                       ...   \n",
              "91  Aug 1992             4.17       6.06                     -2.32   \n",
              "92  Sep 1992             0.39      -2.19                      0.99   \n",
              "93  Oct 1992            -3.83      -5.44                      0.87   \n",
              "94  Nov 1992            -2.80       0.74                      3.79   \n",
              "95  Dec 1992            -0.43       0.33                      1.53   \n",
              "\n",
              "    US Corp Bonds  Money Market  \n",
              "0            2.25          0.61  \n",
              "1           -3.19          0.62  \n",
              "2            1.30          0.62  \n",
              "3            1.56          0.65  \n",
              "4            5.58          0.59  \n",
              "..            ...           ...  \n",
              "91           0.53          0.25  \n",
              "92           0.95          0.25  \n",
              "93          -2.02          0.22  \n",
              "94          -0.07          0.23  \n",
              "95           1.61          0.22  \n",
              "\n",
              "[96 rows x 6 columns]"
            ]
          },
          "execution_count": 4,
          "metadata": {},
          "output_type": "execute_result"
        }
      ],
      "source": [
        "df_e=df\n",
        "for i in range(1,5):\n",
        "    df_e.iloc[:,i]=df_e.iloc[:,i]-df_e.iloc[:,5]\n",
        "df_e"
      ]
    },
    {
      "cell_type": "code",
      "execution_count": null,
      "metadata": {
        "scrolled": true,
        "id": "kRerMKDKCg3t",
        "outputId": "091d1ddf-bf07-4046-a661-26106117e625"
      },
      "outputs": [
        {
          "data": {
            "text/html": [
              "<div>\n",
              "<style scoped>\n",
              "    .dataframe tbody tr th:only-of-type {\n",
              "        vertical-align: middle;\n",
              "    }\n",
              "\n",
              "    .dataframe tbody tr th {\n",
              "        vertical-align: top;\n",
              "    }\n",
              "\n",
              "    .dataframe thead th {\n",
              "        text-align: right;\n",
              "    }\n",
              "</style>\n",
              "<table border=\"1\" class=\"dataframe\">\n",
              "  <thead>\n",
              "    <tr style=\"text-align: right;\">\n",
              "      <th></th>\n",
              "      <th>SB Non-US Bonds</th>\n",
              "      <th>MSCI EAFE</th>\n",
              "      <th>CRSP VW US common stocks</th>\n",
              "      <th>US Corp Bonds</th>\n",
              "      <th>Money Market</th>\n",
              "    </tr>\n",
              "  </thead>\n",
              "  <tbody>\n",
              "    <tr>\n",
              "      <th>count</th>\n",
              "      <td>96.000000</td>\n",
              "      <td>96.000000</td>\n",
              "      <td>96.000000</td>\n",
              "      <td>96.000000</td>\n",
              "      <td>96.000000</td>\n",
              "    </tr>\n",
              "    <tr>\n",
              "      <th>mean</th>\n",
              "      <td>0.013254</td>\n",
              "      <td>0.015161</td>\n",
              "      <td>0.013335</td>\n",
              "      <td>0.009746</td>\n",
              "      <td>0.004871</td>\n",
              "    </tr>\n",
              "    <tr>\n",
              "      <th>std</th>\n",
              "      <td>0.036699</td>\n",
              "      <td>0.058724</td>\n",
              "      <td>0.047337</td>\n",
              "      <td>0.015708</td>\n",
              "      <td>0.001194</td>\n",
              "    </tr>\n",
              "    <tr>\n",
              "      <th>min</th>\n",
              "      <td>-0.075300</td>\n",
              "      <td>-0.139900</td>\n",
              "      <td>-0.224900</td>\n",
              "      <td>-0.033500</td>\n",
              "      <td>0.002200</td>\n",
              "    </tr>\n",
              "    <tr>\n",
              "      <th>25%</th>\n",
              "      <td>-0.014275</td>\n",
              "      <td>-0.022150</td>\n",
              "      <td>-0.009825</td>\n",
              "      <td>0.000425</td>\n",
              "      <td>0.004200</td>\n",
              "    </tr>\n",
              "    <tr>\n",
              "      <th>50%</th>\n",
              "      <td>0.012550</td>\n",
              "      <td>0.014550</td>\n",
              "      <td>0.016100</td>\n",
              "      <td>0.010200</td>\n",
              "      <td>0.004800</td>\n",
              "    </tr>\n",
              "    <tr>\n",
              "      <th>75%</th>\n",
              "      <td>0.038950</td>\n",
              "      <td>0.056925</td>\n",
              "      <td>0.044225</td>\n",
              "      <td>0.020325</td>\n",
              "      <td>0.005800</td>\n",
              "    </tr>\n",
              "    <tr>\n",
              "      <th>max</th>\n",
              "      <td>0.093000</td>\n",
              "      <td>0.156100</td>\n",
              "      <td>0.128400</td>\n",
              "      <td>0.061700</td>\n",
              "      <td>0.007000</td>\n",
              "    </tr>\n",
              "  </tbody>\n",
              "</table>\n",
              "</div>"
            ],
            "text/plain": [
              "       SB Non-US Bonds  MSCI EAFE  CRSP VW US common stocks  US Corp Bonds  \\\n",
              "count        96.000000  96.000000                 96.000000      96.000000   \n",
              "mean          0.013254   0.015161                  0.013335       0.009746   \n",
              "std           0.036699   0.058724                  0.047337       0.015708   \n",
              "min          -0.075300  -0.139900                 -0.224900      -0.033500   \n",
              "25%          -0.014275  -0.022150                 -0.009825       0.000425   \n",
              "50%           0.012550   0.014550                  0.016100       0.010200   \n",
              "75%           0.038950   0.056925                  0.044225       0.020325   \n",
              "max           0.093000   0.156100                  0.128400       0.061700   \n",
              "\n",
              "       Money Market  \n",
              "count     96.000000  \n",
              "mean       0.004871  \n",
              "std        0.001194  \n",
              "min        0.002200  \n",
              "25%        0.004200  \n",
              "50%        0.004800  \n",
              "75%        0.005800  \n",
              "max        0.007000  "
            ]
          },
          "execution_count": 34,
          "metadata": {},
          "output_type": "execute_result"
        }
      ],
      "source": [
        "df.iloc[:,1:].div(100).describe()"
      ]
    },
    {
      "cell_type": "code",
      "execution_count": null,
      "metadata": {
        "id": "zxJTyszuCg3u",
        "outputId": "b06f869c-6e89-406e-96af-42bb8e8cd87d"
      },
      "outputs": [
        {
          "data": {
            "text/html": [
              "<div>\n",
              "<style scoped>\n",
              "    .dataframe tbody tr th:only-of-type {\n",
              "        vertical-align: middle;\n",
              "    }\n",
              "\n",
              "    .dataframe tbody tr th {\n",
              "        vertical-align: top;\n",
              "    }\n",
              "\n",
              "    .dataframe thead th {\n",
              "        text-align: right;\n",
              "    }\n",
              "</style>\n",
              "<table border=\"1\" class=\"dataframe\">\n",
              "  <thead>\n",
              "    <tr style=\"text-align: right;\">\n",
              "      <th></th>\n",
              "      <th>SB Non-US Bonds</th>\n",
              "      <th>MSCI EAFE</th>\n",
              "      <th>CRSP VW US common stocks</th>\n",
              "      <th>US Corp Bonds</th>\n",
              "    </tr>\n",
              "  </thead>\n",
              "  <tbody>\n",
              "    <tr>\n",
              "      <th>count</th>\n",
              "      <td>96.000000</td>\n",
              "      <td>96.000000</td>\n",
              "      <td>96.000000</td>\n",
              "      <td>96.000000</td>\n",
              "    </tr>\n",
              "    <tr>\n",
              "      <th>mean</th>\n",
              "      <td>0.008383</td>\n",
              "      <td>0.010291</td>\n",
              "      <td>0.008465</td>\n",
              "      <td>0.004875</td>\n",
              "    </tr>\n",
              "    <tr>\n",
              "      <th>std</th>\n",
              "      <td>0.036688</td>\n",
              "      <td>0.058694</td>\n",
              "      <td>0.047369</td>\n",
              "      <td>0.015639</td>\n",
              "    </tr>\n",
              "    <tr>\n",
              "      <th>min</th>\n",
              "      <td>-0.079900</td>\n",
              "      <td>-0.145200</td>\n",
              "      <td>-0.230200</td>\n",
              "      <td>-0.037700</td>\n",
              "    </tr>\n",
              "    <tr>\n",
              "      <th>25%</th>\n",
              "      <td>-0.017925</td>\n",
              "      <td>-0.026175</td>\n",
              "      <td>-0.015450</td>\n",
              "      <td>-0.005150</td>\n",
              "    </tr>\n",
              "    <tr>\n",
              "      <th>50%</th>\n",
              "      <td>0.007750</td>\n",
              "      <td>0.010150</td>\n",
              "      <td>0.010900</td>\n",
              "      <td>0.006200</td>\n",
              "    </tr>\n",
              "    <tr>\n",
              "      <th>75%</th>\n",
              "      <td>0.034275</td>\n",
              "      <td>0.052500</td>\n",
              "      <td>0.039575</td>\n",
              "      <td>0.015625</td>\n",
              "    </tr>\n",
              "    <tr>\n",
              "      <th>max</th>\n",
              "      <td>0.087700</td>\n",
              "      <td>0.150400</td>\n",
              "      <td>0.124200</td>\n",
              "      <td>0.055800</td>\n",
              "    </tr>\n",
              "  </tbody>\n",
              "</table>\n",
              "</div>"
            ],
            "text/plain": [
              "       SB Non-US Bonds  MSCI EAFE  CRSP VW US common stocks  US Corp Bonds\n",
              "count        96.000000  96.000000                 96.000000      96.000000\n",
              "mean          0.008383   0.010291                  0.008465       0.004875\n",
              "std           0.036688   0.058694                  0.047369       0.015639\n",
              "min          -0.079900  -0.145200                 -0.230200      -0.037700\n",
              "25%          -0.017925  -0.026175                 -0.015450      -0.005150\n",
              "50%           0.007750   0.010150                  0.010900       0.006200\n",
              "75%           0.034275   0.052500                  0.039575       0.015625\n",
              "max           0.087700   0.150400                  0.124200       0.055800"
            ]
          },
          "execution_count": 30,
          "metadata": {},
          "output_type": "execute_result"
        }
      ],
      "source": [
        "df_e.iloc[:,1:5].div(100).describe()"
      ]
    },
    {
      "cell_type": "code",
      "execution_count": null,
      "metadata": {
        "id": "bDGSYKqbCg3v",
        "outputId": "603333f1-7e35-4cc3-88aa-ae97fb3a1161"
      },
      "outputs": [
        {
          "data": {
            "text/plain": [
              "array([0.83833333, 1.0290625 , 0.84645833, 0.4875    ])"
            ]
          },
          "execution_count": 6,
          "metadata": {},
          "output_type": "execute_result"
        }
      ],
      "source": [
        "df_mu= df_e.iloc[:,1:5].describe().loc['mean']\n",
        "mu=df_mu.values\n",
        "mu"
      ]
    },
    {
      "cell_type": "code",
      "execution_count": null,
      "metadata": {
        "id": "1E-jFZ7FCg3v",
        "outputId": "5c6446ad-8a89-4f64-bafb-ac304b89e9fa"
      },
      "outputs": [
        {
          "data": {
            "text/html": [
              "<div>\n",
              "<style scoped>\n",
              "    .dataframe tbody tr th:only-of-type {\n",
              "        vertical-align: middle;\n",
              "    }\n",
              "\n",
              "    .dataframe tbody tr th {\n",
              "        vertical-align: top;\n",
              "    }\n",
              "\n",
              "    .dataframe thead th {\n",
              "        text-align: right;\n",
              "    }\n",
              "</style>\n",
              "<table border=\"1\" class=\"dataframe\">\n",
              "  <thead>\n",
              "    <tr style=\"text-align: right;\">\n",
              "      <th></th>\n",
              "      <th>Avg Excess Return</th>\n",
              "    </tr>\n",
              "  </thead>\n",
              "  <tbody>\n",
              "    <tr>\n",
              "      <th>SB Non-US Bonds</th>\n",
              "      <td>0.838333</td>\n",
              "    </tr>\n",
              "    <tr>\n",
              "      <th>MSCI EAFE</th>\n",
              "      <td>1.029063</td>\n",
              "    </tr>\n",
              "    <tr>\n",
              "      <th>CRSP VW US common stocks</th>\n",
              "      <td>0.846458</td>\n",
              "    </tr>\n",
              "    <tr>\n",
              "      <th>US Corp Bonds</th>\n",
              "      <td>0.487500</td>\n",
              "    </tr>\n",
              "  </tbody>\n",
              "</table>\n",
              "</div>"
            ],
            "text/plain": [
              "                          Avg Excess Return\n",
              "SB Non-US Bonds                    0.838333\n",
              "MSCI EAFE                          1.029063\n",
              "CRSP VW US common stocks           0.846458\n",
              "US Corp Bonds                      0.487500"
            ]
          },
          "execution_count": 23,
          "metadata": {},
          "output_type": "execute_result"
        }
      ],
      "source": [
        "df_excess_return_avg = pd.DataFrame(data={'Avg Excess Return': mu}, index = df_e.columns.values[1:5])\n",
        "df_excess_return_avg"
      ]
    },
    {
      "cell_type": "code",
      "execution_count": null,
      "metadata": {
        "id": "byHuC9SpCg3w",
        "outputId": "2d9870af-88a1-484e-cafd-065e07971543"
      },
      "outputs": [
        {
          "data": {
            "text/html": [
              "<div>\n",
              "<style scoped>\n",
              "    .dataframe tbody tr th:only-of-type {\n",
              "        vertical-align: middle;\n",
              "    }\n",
              "\n",
              "    .dataframe tbody tr th {\n",
              "        vertical-align: top;\n",
              "    }\n",
              "\n",
              "    .dataframe thead th {\n",
              "        text-align: right;\n",
              "    }\n",
              "</style>\n",
              "<table border=\"1\" class=\"dataframe\">\n",
              "  <thead>\n",
              "    <tr style=\"text-align: right;\">\n",
              "      <th></th>\n",
              "      <th>SB Non-US Bonds</th>\n",
              "      <th>MSCI EAFE</th>\n",
              "      <th>CRSP VW US common stocks</th>\n",
              "      <th>US Corp Bonds</th>\n",
              "    </tr>\n",
              "  </thead>\n",
              "  <tbody>\n",
              "    <tr>\n",
              "      <th>0</th>\n",
              "      <td>-1.48</td>\n",
              "      <td>1.67</td>\n",
              "      <td>7.97</td>\n",
              "      <td>2.25</td>\n",
              "    </tr>\n",
              "    <tr>\n",
              "      <th>1</th>\n",
              "      <td>-5.14</td>\n",
              "      <td>-1.18</td>\n",
              "      <td>1.08</td>\n",
              "      <td>-3.19</td>\n",
              "    </tr>\n",
              "    <tr>\n",
              "      <th>2</th>\n",
              "      <td>7.48</td>\n",
              "      <td>7.17</td>\n",
              "      <td>-0.81</td>\n",
              "      <td>1.30</td>\n",
              "    </tr>\n",
              "    <tr>\n",
              "      <th>3</th>\n",
              "      <td>0.02</td>\n",
              "      <td>-0.96</td>\n",
              "      <td>-0.87</td>\n",
              "      <td>1.56</td>\n",
              "    </tr>\n",
              "    <tr>\n",
              "      <th>4</th>\n",
              "      <td>2.23</td>\n",
              "      <td>3.69</td>\n",
              "      <td>5.00</td>\n",
              "      <td>5.58</td>\n",
              "    </tr>\n",
              "    <tr>\n",
              "      <th>...</th>\n",
              "      <td>...</td>\n",
              "      <td>...</td>\n",
              "      <td>...</td>\n",
              "      <td>...</td>\n",
              "    </tr>\n",
              "    <tr>\n",
              "      <th>91</th>\n",
              "      <td>4.17</td>\n",
              "      <td>6.06</td>\n",
              "      <td>-2.32</td>\n",
              "      <td>0.53</td>\n",
              "    </tr>\n",
              "    <tr>\n",
              "      <th>92</th>\n",
              "      <td>0.39</td>\n",
              "      <td>-2.19</td>\n",
              "      <td>0.99</td>\n",
              "      <td>0.95</td>\n",
              "    </tr>\n",
              "    <tr>\n",
              "      <th>93</th>\n",
              "      <td>-3.83</td>\n",
              "      <td>-5.44</td>\n",
              "      <td>0.87</td>\n",
              "      <td>-2.02</td>\n",
              "    </tr>\n",
              "    <tr>\n",
              "      <th>94</th>\n",
              "      <td>-2.80</td>\n",
              "      <td>0.74</td>\n",
              "      <td>3.79</td>\n",
              "      <td>-0.07</td>\n",
              "    </tr>\n",
              "    <tr>\n",
              "      <th>95</th>\n",
              "      <td>-0.43</td>\n",
              "      <td>0.33</td>\n",
              "      <td>1.53</td>\n",
              "      <td>1.61</td>\n",
              "    </tr>\n",
              "  </tbody>\n",
              "</table>\n",
              "<p>96 rows × 4 columns</p>\n",
              "</div>"
            ],
            "text/plain": [
              "    SB Non-US Bonds  MSCI EAFE  CRSP VW US common stocks  US Corp Bonds\n",
              "0             -1.48       1.67                      7.97           2.25\n",
              "1             -5.14      -1.18                      1.08          -3.19\n",
              "2              7.48       7.17                     -0.81           1.30\n",
              "3              0.02      -0.96                     -0.87           1.56\n",
              "4              2.23       3.69                      5.00           5.58\n",
              "..              ...        ...                       ...            ...\n",
              "91             4.17       6.06                     -2.32           0.53\n",
              "92             0.39      -2.19                      0.99           0.95\n",
              "93            -3.83      -5.44                      0.87          -2.02\n",
              "94            -2.80       0.74                      3.79          -0.07\n",
              "95            -0.43       0.33                      1.53           1.61\n",
              "\n",
              "[96 rows x 4 columns]"
            ]
          },
          "execution_count": 8,
          "metadata": {},
          "output_type": "execute_result"
        }
      ],
      "source": [
        "df_p= df_e[['SB Non-US Bonds','MSCI EAFE','CRSP VW US common stocks','US Corp Bonds']]"
      ]
    },
    {
      "cell_type": "code",
      "execution_count": null,
      "metadata": {
        "id": "s24CuipYCg3x",
        "outputId": "c79b1386-5c8f-4bbe-dff3-01103c145477"
      },
      "outputs": [
        {
          "data": {
            "text/plain": [
              "array([[ 1.        ,  0.57107193, -0.1029516 ,  0.29672825],\n",
              "       [ 0.57107193,  1.        ,  0.42146819,  0.19269713],\n",
              "       [-0.1029516 ,  0.42146819,  1.        ,  0.35607933],\n",
              "       [ 0.29672825,  0.19269713,  0.35607933,  1.        ]])"
            ]
          },
          "execution_count": 9,
          "metadata": {},
          "output_type": "execute_result"
        }
      ],
      "source": [
        "df_corr=df_p.corr()\n",
        "corr = df_corr.values\n",
        "corr"
      ]
    },
    {
      "cell_type": "code",
      "execution_count": null,
      "metadata": {
        "id": "Mezef-wZCg3y",
        "outputId": "d7b85b4d-08e4-4e03-8521-6d6af4a63c3a"
      },
      "outputs": [
        {
          "data": {
            "text/html": [
              "<div>\n",
              "<style scoped>\n",
              "    .dataframe tbody tr th:only-of-type {\n",
              "        vertical-align: middle;\n",
              "    }\n",
              "\n",
              "    .dataframe tbody tr th {\n",
              "        vertical-align: top;\n",
              "    }\n",
              "\n",
              "    .dataframe thead th {\n",
              "        text-align: right;\n",
              "    }\n",
              "</style>\n",
              "<table border=\"1\" class=\"dataframe\">\n",
              "  <thead>\n",
              "    <tr style=\"text-align: right;\">\n",
              "      <th></th>\n",
              "      <th>SB Non-US Bonds</th>\n",
              "      <th>MSCI EAFE</th>\n",
              "      <th>CRSP VW US common stocks</th>\n",
              "      <th>US Corp Bonds</th>\n",
              "    </tr>\n",
              "  </thead>\n",
              "  <tbody>\n",
              "    <tr>\n",
              "      <th>0</th>\n",
              "      <td>-0.0148</td>\n",
              "      <td>0.0167</td>\n",
              "      <td>0.0797</td>\n",
              "      <td>0.0225</td>\n",
              "    </tr>\n",
              "    <tr>\n",
              "      <th>1</th>\n",
              "      <td>-0.0514</td>\n",
              "      <td>-0.0118</td>\n",
              "      <td>0.0108</td>\n",
              "      <td>-0.0319</td>\n",
              "    </tr>\n",
              "    <tr>\n",
              "      <th>2</th>\n",
              "      <td>0.0748</td>\n",
              "      <td>0.0717</td>\n",
              "      <td>-0.0081</td>\n",
              "      <td>0.0130</td>\n",
              "    </tr>\n",
              "    <tr>\n",
              "      <th>3</th>\n",
              "      <td>0.0002</td>\n",
              "      <td>-0.0096</td>\n",
              "      <td>-0.0087</td>\n",
              "      <td>0.0156</td>\n",
              "    </tr>\n",
              "    <tr>\n",
              "      <th>4</th>\n",
              "      <td>0.0223</td>\n",
              "      <td>0.0369</td>\n",
              "      <td>0.0500</td>\n",
              "      <td>0.0558</td>\n",
              "    </tr>\n",
              "    <tr>\n",
              "      <th>...</th>\n",
              "      <td>...</td>\n",
              "      <td>...</td>\n",
              "      <td>...</td>\n",
              "      <td>...</td>\n",
              "    </tr>\n",
              "    <tr>\n",
              "      <th>91</th>\n",
              "      <td>0.0417</td>\n",
              "      <td>0.0606</td>\n",
              "      <td>-0.0232</td>\n",
              "      <td>0.0053</td>\n",
              "    </tr>\n",
              "    <tr>\n",
              "      <th>92</th>\n",
              "      <td>0.0039</td>\n",
              "      <td>-0.0219</td>\n",
              "      <td>0.0099</td>\n",
              "      <td>0.0095</td>\n",
              "    </tr>\n",
              "    <tr>\n",
              "      <th>93</th>\n",
              "      <td>-0.0383</td>\n",
              "      <td>-0.0544</td>\n",
              "      <td>0.0087</td>\n",
              "      <td>-0.0202</td>\n",
              "    </tr>\n",
              "    <tr>\n",
              "      <th>94</th>\n",
              "      <td>-0.0280</td>\n",
              "      <td>0.0074</td>\n",
              "      <td>0.0379</td>\n",
              "      <td>-0.0007</td>\n",
              "    </tr>\n",
              "    <tr>\n",
              "      <th>95</th>\n",
              "      <td>-0.0043</td>\n",
              "      <td>0.0033</td>\n",
              "      <td>0.0153</td>\n",
              "      <td>0.0161</td>\n",
              "    </tr>\n",
              "  </tbody>\n",
              "</table>\n",
              "<p>96 rows × 4 columns</p>\n",
              "</div>"
            ],
            "text/plain": [
              "    SB Non-US Bonds  MSCI EAFE  CRSP VW US common stocks  US Corp Bonds\n",
              "0           -0.0148     0.0167                    0.0797         0.0225\n",
              "1           -0.0514    -0.0118                    0.0108        -0.0319\n",
              "2            0.0748     0.0717                   -0.0081         0.0130\n",
              "3            0.0002    -0.0096                   -0.0087         0.0156\n",
              "4            0.0223     0.0369                    0.0500         0.0558\n",
              "..              ...        ...                       ...            ...\n",
              "91           0.0417     0.0606                   -0.0232         0.0053\n",
              "92           0.0039    -0.0219                    0.0099         0.0095\n",
              "93          -0.0383    -0.0544                    0.0087        -0.0202\n",
              "94          -0.0280     0.0074                    0.0379        -0.0007\n",
              "95          -0.0043     0.0033                    0.0153         0.0161\n",
              "\n",
              "[96 rows x 4 columns]"
            ]
          },
          "execution_count": 10,
          "metadata": {},
          "output_type": "execute_result"
        }
      ],
      "source": [
        "df1=df.iloc[:,1:5].div(100)\n",
        "df1"
      ]
    },
    {
      "cell_type": "code",
      "execution_count": null,
      "metadata": {
        "id": "4OAlKsRkCg3y",
        "outputId": "0fe5d8d8-9321-42de-bd58-8fa9daf7f24a"
      },
      "outputs": [
        {
          "data": {
            "text/plain": [
              "array([[ 0.00134599,  0.00122972, -0.00017891,  0.00017025],\n",
              "       [ 0.00122972,  0.00344499,  0.00117179,  0.00017688],\n",
              "       [-0.00017891,  0.00117179,  0.00224379,  0.00026379],\n",
              "       [ 0.00017025,  0.00017688,  0.00026379,  0.00024459]])"
            ]
          },
          "execution_count": 11,
          "metadata": {},
          "output_type": "execute_result"
        }
      ],
      "source": [
        "V_G = df1.cov()\n",
        "V= V_G.values\n",
        "V\n",
        "# this is the covariance matrix of the four assets "
      ]
    },
    {
      "cell_type": "code",
      "execution_count": null,
      "metadata": {
        "id": "qpJJsspsCg3z"
      },
      "outputs": [],
      "source": [
        "# df_V=df.iloc[:,1:5].cov()\n",
        "# V = df_V.values\n",
        "# V"
      ]
    },
    {
      "cell_type": "code",
      "execution_count": null,
      "metadata": {
        "id": "fuExWjkaCg3z"
      },
      "outputs": [],
      "source": [
        "np.set_printoptions(suppress=True)"
      ]
    },
    {
      "cell_type": "code",
      "execution_count": null,
      "metadata": {
        "id": "kG8tPwIICg3z",
        "outputId": "3fbc9de3-e8c9-4b76-91d2-315a3928bbcc"
      },
      "outputs": [
        {
          "data": {
            "text/plain": [
              "array([[ 0.06087],\n",
              "       [-0.00088],\n",
              "       [ 0.00208],\n",
              "       [ 0.93793]])"
            ]
          },
          "execution_count": 15,
          "metadata": {},
          "output_type": "execute_result"
        }
      ],
      "source": [
        "#Min-variance portfolio\n",
        "w_G = np.linalg.inv(V_G) @ np.ones((4,1))\n",
        "w_G /= np.sum(w_G)\n",
        "np.round(w_G,5)\n",
        "# w_G"
      ]
    },
    {
      "cell_type": "code",
      "execution_count": null,
      "metadata": {
        "id": "JwExbWcKCg30",
        "outputId": "8299e470-ce2c-4f20-9e9c-898996d06567"
      },
      "outputs": [
        {
          "data": {
            "text/plain": [
              "array([[ 0.06087],\n",
              "       [-0.00088],\n",
              "       [ 0.00208],\n",
              "       [ 0.93793]])"
            ]
          },
          "execution_count": 16,
          "metadata": {},
          "output_type": "execute_result"
        }
      ],
      "source": [
        "# w_G = np.linalg.inv(V) @ np.ones((4,1)) \n",
        "# w_G /= np.sum(w_G)\n",
        "# # Normalized, so that the total sum up to 1\n",
        "# np.round(w_G,5)"
      ]
    },
    {
      "cell_type": "code",
      "execution_count": null,
      "metadata": {
        "id": "yecoka_ACg30",
        "outputId": "ae7a0cd0-6b72-4bca-f2b9-9f613dc17e0a"
      },
      "outputs": [
        {
          "data": {
            "text/plain": [
              "array([ 0.26591555, -0.03508855,  0.14397928,  0.62519372])"
            ]
          },
          "execution_count": 21,
          "metadata": {},
          "output_type": "execute_result"
        }
      ],
      "source": [
        "#Tangency portfolio\n",
        "w_T = np.linalg.inv(V) @ (mu)\n",
        "w_T /= np.sum(w_T)\n",
        "w_T"
      ]
    },
    {
      "cell_type": "markdown",
      "metadata": {
        "id": "qYVjrhjmCg30"
      },
      "source": [
        "#### Negative weight means this strategy calls for selling the MSCI EAFE short and using the proceeds to finance additional purchases of the other assets"
      ]
    },
    {
      "cell_type": "markdown",
      "metadata": {
        "id": "lFX_1VKpCg32"
      },
      "source": [
        "### Question b ii: use two fund seperation: if tangency portfolio is weighted k, then the minimum variance protfolio is weighted 1-k"
      ]
    },
    {
      "cell_type": "code",
      "execution_count": null,
      "metadata": {
        "id": "5Q0SacsUCg32"
      },
      "outputs": [],
      "source": [
        "from matplotlib import pyplot as plt\n",
        "import math "
      ]
    },
    {
      "cell_type": "code",
      "execution_count": null,
      "metadata": {
        "id": "BqZ5F0x6Cg32",
        "outputId": "11fe617f-6a0a-4c3e-8f96-666350f1ef88"
      },
      "outputs": [
        {
          "data": {
            "text/plain": [
              "array([[ 0.06087025, -0.00088098,  0.00208125,  0.93792947],\n",
              "       [ 0.26591555, -0.03508855,  0.14397928,  0.62519372]])"
            ]
          },
          "execution_count": 22,
          "metadata": {},
          "output_type": "execute_result"
        }
      ],
      "source": [
        "a=w_G\n",
        "b= a.transpose()[0]\n",
        "c=np.vstack((b,w_T))\n",
        "c\n",
        "#weightage for the four assets "
      ]
    },
    {
      "cell_type": "code",
      "execution_count": null,
      "metadata": {
        "id": "2fE0HmLCCg32",
        "outputId": "ef219c1e-a355-447a-b7a3-a76579b72d0e"
      },
      "outputs": [
        {
          "name": "stdout",
          "output_type": "stream",
          "text": [
            "[[0.00838333]\n",
            " [0.01029063]\n",
            " [0.00846458]\n",
            " [0.004875  ]]\n"
          ]
        }
      ],
      "source": [
        "mean= np.array([0.838333,1.029063,0.846458,0.4875])/100\n",
        "mean_j = np.array(mean)\n",
        "mean_j = mean_j.reshape((1,-1))\n",
        "mean_j = mean_j.transpose()\n",
        "print(mean_j)"
      ]
    },
    {
      "cell_type": "code",
      "execution_count": null,
      "metadata": {
        "id": "RODCn1LdCg33",
        "outputId": "350bf828-76da-4c43-cecf-5b56f88a0852"
      },
      "outputs": [
        {
          "data": {
            "text/plain": [
              "array([[ 0.06087025,  0.26591555],\n",
              "       [-0.00088098, -0.03508855],\n",
              "       [ 0.00208125,  0.14397928],\n",
              "       [ 0.93792947,  0.62519372]])"
            ]
          },
          "execution_count": 26,
          "metadata": {},
          "output_type": "execute_result"
        }
      ],
      "source": [
        "c.transpose()"
      ]
    },
    {
      "cell_type": "code",
      "execution_count": null,
      "metadata": {
        "id": "ugYBi5GDCg33",
        "outputId": "64cde428-bc7f-4c13-ec8a-d2605216c0ef"
      },
      "outputs": [
        {
          "data": {
            "image/png": "[encoded data removed]",
            "text/plain": [
              "<Figure size 432x288 with 1 Axes>"
            ]
          },
          "metadata": {
            "needs_background": "light"
          },
          "output_type": "display_data"
        }
      ],
      "source": [
        "x=[]\n",
        "y=[]\n",
        "# k=0.5\n",
        "# allows 25 times shorting\n",
        "for k in np.linspace(-8,10,100):\n",
        "    d=c.transpose()@np.array([[1-k], [k]])\n",
        "    Ep=mean@d\n",
        "    x.append(Ep[0])\n",
        "    varp = d.transpose()@V@d\n",
        "    stdp=np.sqrt(varp[0,0])\n",
        "    y.append(stdp)\n",
        "    \n",
        "# plt.plot(0.65476,0.7823517815011644,'ro')\n",
        "# plt.annotate('min-variance',(0.65476,0.7823517815011644))\n",
        "# plt.plot(0.69642695973,0.8850867677459338,'ro')\n",
        "# plt.annotate('tangency portfolio',(0.6964269,0.8850867677459338))\n",
        "plt.plot(y, x);"
      ]
    },
    {
      "cell_type": "code",
      "execution_count": null,
      "metadata": {
        "id": "BoT9g__FCg34",
        "outputId": "f684c961-0142-411a-8bf9-56d0f58507e5"
      },
      "outputs": [
        {
          "name": "stdout",
          "output_type": "stream",
          "text": [
            "(536, 1, 1)\n",
            "(536, 1, 1)\n"
          ]
        }
      ],
      "source": [
        "E_P_s_list = []\n",
        "V_P_s_list = []\n",
        "for i in range(1000):\n",
        "    w_ran_s = np.array([np.random.uniform(-1,1), np.random.uniform(-1,1), np.random.uniform(-1,1), np.random.uniform(-1,1)])\n",
        "    w_ran_s /= w_ran_s.sum()\n",
        "    if (w_ran_s <= 1).all():\n",
        "        w_ran_s = np.array(w_ran_s)\n",
        "        w_ran_s = w_ran_s.reshape((1,-1))\n",
        "        w_ran_s = w_ran_s.transpose()\n",
        "        E_P_s_temp = portfolio_return(mean_j, w_ran_s)\n",
        "        V_s_temp = V_G.values\n",
        "        V_P_s_temp = portfolio_variance(V_s_temp, w_ran_s)\n",
        "        E_P_s_list.append(E_P_s_temp)\n",
        "        V_P_s_list.append(V_P_s_temp)\n",
        "E_P_s = np.array(E_P_s_list)\n",
        "V_P_s = np.array(V_P_s_list)\n",
        "\n",
        "print(E_P_s.shape)\n",
        "print(V_P_s.shape)"
      ]
    },
    {
      "cell_type": "code",
      "execution_count": null,
      "metadata": {
        "id": "VINcvNSICg34",
        "outputId": "c8ab653e-5193-45fa-b963-a669b8b7177a"
      },
      "outputs": [
        {
          "data": {
            "text/html": [
              "<div>\n",
              "<style scoped>\n",
              "    .dataframe tbody tr th:only-of-type {\n",
              "        vertical-align: middle;\n",
              "    }\n",
              "\n",
              "    .dataframe tbody tr th {\n",
              "        vertical-align: top;\n",
              "    }\n",
              "\n",
              "    .dataframe thead th {\n",
              "        text-align: right;\n",
              "    }\n",
              "</style>\n",
              "<table border=\"1\" class=\"dataframe\">\n",
              "  <thead>\n",
              "    <tr style=\"text-align: right;\">\n",
              "      <th></th>\n",
              "      <th>Expected Return</th>\n",
              "      <th>Std</th>\n",
              "    </tr>\n",
              "  </thead>\n",
              "  <tbody>\n",
              "    <tr>\n",
              "      <th>0</th>\n",
              "      <td>0.011107</td>\n",
              "      <td>0.070440</td>\n",
              "    </tr>\n",
              "    <tr>\n",
              "      <th>1</th>\n",
              "      <td>0.012739</td>\n",
              "      <td>0.060573</td>\n",
              "    </tr>\n",
              "    <tr>\n",
              "      <th>2</th>\n",
              "      <td>0.007634</td>\n",
              "      <td>0.023945</td>\n",
              "    </tr>\n",
              "    <tr>\n",
              "      <th>3</th>\n",
              "      <td>0.012223</td>\n",
              "      <td>0.065126</td>\n",
              "    </tr>\n",
              "    <tr>\n",
              "      <th>4</th>\n",
              "      <td>0.009499</td>\n",
              "      <td>0.040442</td>\n",
              "    </tr>\n",
              "    <tr>\n",
              "      <th>...</th>\n",
              "      <td>...</td>\n",
              "      <td>...</td>\n",
              "    </tr>\n",
              "    <tr>\n",
              "      <th>531</th>\n",
              "      <td>0.007383</td>\n",
              "      <td>0.035181</td>\n",
              "    </tr>\n",
              "    <tr>\n",
              "      <th>532</th>\n",
              "      <td>0.007824</td>\n",
              "      <td>0.028519</td>\n",
              "    </tr>\n",
              "    <tr>\n",
              "      <th>533</th>\n",
              "      <td>0.009388</td>\n",
              "      <td>0.046640</td>\n",
              "    </tr>\n",
              "    <tr>\n",
              "      <th>534</th>\n",
              "      <td>0.007275</td>\n",
              "      <td>0.022929</td>\n",
              "    </tr>\n",
              "    <tr>\n",
              "      <th>535</th>\n",
              "      <td>0.009288</td>\n",
              "      <td>0.052089</td>\n",
              "    </tr>\n",
              "  </tbody>\n",
              "</table>\n",
              "<p>536 rows × 2 columns</p>\n",
              "</div>"
            ],
            "text/plain": [
              "     Expected Return       Std\n",
              "0           0.011107  0.070440\n",
              "1           0.012739  0.060573\n",
              "2           0.007634  0.023945\n",
              "3           0.012223  0.065126\n",
              "4           0.009499  0.040442\n",
              "..               ...       ...\n",
              "531         0.007383  0.035181\n",
              "532         0.007824  0.028519\n",
              "533         0.009388  0.046640\n",
              "534         0.007275  0.022929\n",
              "535         0.009288  0.052089\n",
              "\n",
              "[536 rows x 2 columns]"
            ]
          },
          "execution_count": 137,
          "metadata": {},
          "output_type": "execute_result"
        }
      ],
      "source": [
        "df_plot_s = pd.DataFrame()\n",
        "df_plot_s = pd.DataFrame(data={'Expected Return': E_P_s[:, 0, 0]})\n",
        "df_plot_s['Std'] = np.sqrt(V_P_s[:, 0, 0])\n",
        "df_plot_s"
      ]
    },
    {
      "cell_type": "code",
      "execution_count": null,
      "metadata": {
        "scrolled": true,
        "id": "mNYK1IoUCg34",
        "outputId": "f12ca2cf-5d12-42a1-ebd4-009ae7f3dc5c"
      },
      "outputs": [
        {
          "data": {
            "image/png": "[encoded data removed]",
            "text/plain": [
              "<Figure size 432x288 with 1 Axes>"
            ]
          },
          "metadata": {
            "needs_background": "light"
          },
          "output_type": "display_data"
        }
      ],
      "source": [
        "plt.xlabel('Std')\n",
        "plt.ylabel('Expected Return')\n",
        "plt.plot(df_plot_s['Std'], df_plot_s['Expected Return'],'ro')\n",
        "plt.plot(y, x);"
      ]
    },
    {
      "cell_type": "markdown",
      "metadata": {
        "id": "ave-ZpS0Cg35"
      },
      "source": [
        "### This is to validate our efficient frontier is correct "
      ]
    },
    {
      "cell_type": "code",
      "execution_count": null,
      "metadata": {
        "scrolled": true,
        "id": "XOwlr5-yCg35",
        "outputId": "82209cf7-102f-4191-a51c-5ea24b1d4019"
      },
      "outputs": [
        {
          "data": {
            "image/png": "[encoded data removed]",
            "text/plain": [
              "<Figure size 432x288 with 1 Axes>"
            ]
          },
          "metadata": {
            "needs_background": "light"
          },
          "output_type": "display_data"
        }
      ],
      "source": [
        "plt.xlabel('Std')\n",
        "plt.ylabel('Expected Return')\n",
        "plt.plot(0.036699,0.00838333,'ro')\n",
        "plt.annotate('SB Non-US Bonds',(0.036699,0.007))\n",
        "plt.plot(0.058724,0.01029063,'ro')\n",
        "plt.annotate('MSCI EAFE',(0.058724,0.01029063))\n",
        "plt.plot(0.047337,0.00846458,'ro')\n",
        "plt.annotate('CRSP VW US common stocks',(0.047337,0.00846458))\n",
        "plt.plot(0.015708,0.004875,'ro')\n",
        "plt.annotate('US Corp Bonds',(0.015708,0.004875))\n",
        "# combined line\n",
        "# plt.plot(0.65476,0.7823517815011644,'ro')\n",
        "# plt.annotate('min-variance',(0.65476,0.7823517815011644))\n",
        "# plt.plot(0.69642695973,0.8850867677459338,'ro')\n",
        "# plt.annotate('tangency portfolio',(0.6964269,0.8850867677459338))\n",
        "plt.plot(y, x);"
      ]
    }
  ],
  "metadata": {
    "kernelspec": {
      "display_name": "Python 3",
      "language": "python",
      "name": "python3"
    },
    "language_info": {
      "codemirror_mode": {
        "name": "ipython",
        "version": 3
      },
      "file_extension": ".py",
      "mimetype": "text/x-python",
      "name": "python",
      "nbconvert_exporter": "python",
      "pygments_lexer": "ipython3",
      "version": "3.7.7"
    },
    "colab": {
      "name": "Assignment3 - Group10.ipynb",
      "provenance": []
    }
  },
  "nbformat": 4,
  "nbformat_minor": 0
}